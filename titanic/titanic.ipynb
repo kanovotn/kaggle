{
 "cells": [
  {
   "cell_type": "code",
   "execution_count": 482,
   "metadata": {
    "_cell_guid": "29e42c90-9fbf-45ef-8e64-be93e39fa578",
    "_uuid": "8d836923-58e5-4242-819b-f9cca8e0ed91",
    "execution": {
     "iopub.execute_input": "2024-02-06T19:13:18.863831Z",
     "iopub.status.busy": "2024-02-06T19:13:18.863154Z",
     "iopub.status.idle": "2024-02-06T19:13:18.874170Z",
     "shell.execute_reply": "2024-02-06T19:13:18.872941Z",
     "shell.execute_reply.started": "2024-02-06T19:13:18.863797Z"
    },
    "jupyter": {
     "outputs_hidden": false
    }
   },
   "outputs": [
    {
     "name": "stdout",
     "output_type": "stream",
     "text": [
      "/kaggle/input/titanic/train.csv\n",
      "/kaggle/input/titanic/test.csv\n",
      "/kaggle/input/titanic/gender_submission.csv\n"
     ]
    }
   ],
   "source": [
    "# This Python 3 environment comes with many helpful analytics libraries installed\n",
    "# It is defined by the kaggle/python Docker image: https://github.com/kaggle/docker-python\n",
    "# For example, here's several helpful packages to load\n",
    "\n",
    "import numpy as np # linear algebra\n",
    "import pandas as pd # data processing, CSV file I/O (e.g. pd.read_csv)\n",
    "import matplotlib.pyplot as plt\n",
    "import seaborn as sns\n",
    "sns.set_style(\"dark\")\n",
    "\n",
    "# Input data files are available in the read-only \"../input/\" directory\n",
    "# For example, running this (by clicking run or pressing Shift+Enter) will list all files under the input directory\n",
    "\n",
    "import os\n",
    "for dirname, _, filenames in os.walk('/kaggle/input'):\n",
    "    for filename in filenames:\n",
    "        print(os.path.join(dirname, filename))\n",
    "\n",
    "# You can write up to 20GB to the current directory (/kaggle/working/) that gets preserved as output when you create a version using \"Save & Run All\" \n",
    "# You can also write temporary files to /kaggle/temp/, but they won't be saved outside of the current session"
   ]
  },
  {
   "cell_type": "code",
   "execution_count": 483,
   "metadata": {
    "_cell_guid": "36dea515-cc02-48b6-a429-7d8bc2100f0b",
    "_uuid": "a239cc88-7910-4978-9f57-f3fc8ca841c4",
    "execution": {
     "iopub.execute_input": "2024-02-06T19:13:18.876682Z",
     "iopub.status.busy": "2024-02-06T19:13:18.876278Z",
     "iopub.status.idle": "2024-02-06T19:13:18.897512Z",
     "shell.execute_reply": "2024-02-06T19:13:18.896656Z",
     "shell.execute_reply.started": "2024-02-06T19:13:18.876647Z"
    },
    "jupyter": {
     "outputs_hidden": false
    }
   },
   "outputs": [],
   "source": [
    "titanic_train = pd.read_csv(\"/kaggle/input/titanic/train.csv\")\n",
    "titanic_test = pd.read_csv(\"/kaggle/input/titanic/test.csv\")\n",
    "train_data = titanic_train.copy()\n",
    "test_data = titanic_test.copy()"
   ]
  },
  {
   "cell_type": "markdown",
   "metadata": {},
   "source": [
    "# **Data exploration**"
   ]
  },
  {
   "cell_type": "code",
   "execution_count": 484,
   "metadata": {
    "_cell_guid": "53dae4bd-ea20-48cf-a8a2-c64c06e8fda7",
    "_uuid": "05c6b313-a816-4703-a2bb-e71270544518",
    "execution": {
     "iopub.execute_input": "2024-02-06T19:13:18.900025Z",
     "iopub.status.busy": "2024-02-06T19:13:18.899131Z",
     "iopub.status.idle": "2024-02-06T19:13:18.920994Z",
     "shell.execute_reply": "2024-02-06T19:13:18.920021Z",
     "shell.execute_reply.started": "2024-02-06T19:13:18.899977Z"
    },
    "jupyter": {
     "outputs_hidden": false
    }
   },
   "outputs": [
    {
     "data": {
      "text/html": [
       "<div>\n",
       "<style scoped>\n",
       "    .dataframe tbody tr th:only-of-type {\n",
       "        vertical-align: middle;\n",
       "    }\n",
       "\n",
       "    .dataframe tbody tr th {\n",
       "        vertical-align: top;\n",
       "    }\n",
       "\n",
       "    .dataframe thead th {\n",
       "        text-align: right;\n",
       "    }\n",
       "</style>\n",
       "<table border=\"1\" class=\"dataframe\">\n",
       "  <thead>\n",
       "    <tr style=\"text-align: right;\">\n",
       "      <th></th>\n",
       "      <th>PassengerId</th>\n",
       "      <th>Survived</th>\n",
       "      <th>Pclass</th>\n",
       "      <th>Name</th>\n",
       "      <th>Sex</th>\n",
       "      <th>Age</th>\n",
       "      <th>SibSp</th>\n",
       "      <th>Parch</th>\n",
       "      <th>Ticket</th>\n",
       "      <th>Fare</th>\n",
       "      <th>Cabin</th>\n",
       "      <th>Embarked</th>\n",
       "    </tr>\n",
       "  </thead>\n",
       "  <tbody>\n",
       "    <tr>\n",
       "      <th>0</th>\n",
       "      <td>1</td>\n",
       "      <td>0</td>\n",
       "      <td>3</td>\n",
       "      <td>Braund, Mr. Owen Harris</td>\n",
       "      <td>male</td>\n",
       "      <td>22.0</td>\n",
       "      <td>1</td>\n",
       "      <td>0</td>\n",
       "      <td>A/5 21171</td>\n",
       "      <td>7.2500</td>\n",
       "      <td>NaN</td>\n",
       "      <td>S</td>\n",
       "    </tr>\n",
       "    <tr>\n",
       "      <th>1</th>\n",
       "      <td>2</td>\n",
       "      <td>1</td>\n",
       "      <td>1</td>\n",
       "      <td>Cumings, Mrs. John Bradley (Florence Briggs Th...</td>\n",
       "      <td>female</td>\n",
       "      <td>38.0</td>\n",
       "      <td>1</td>\n",
       "      <td>0</td>\n",
       "      <td>PC 17599</td>\n",
       "      <td>71.2833</td>\n",
       "      <td>C85</td>\n",
       "      <td>C</td>\n",
       "    </tr>\n",
       "    <tr>\n",
       "      <th>2</th>\n",
       "      <td>3</td>\n",
       "      <td>1</td>\n",
       "      <td>3</td>\n",
       "      <td>Heikkinen, Miss. Laina</td>\n",
       "      <td>female</td>\n",
       "      <td>26.0</td>\n",
       "      <td>0</td>\n",
       "      <td>0</td>\n",
       "      <td>STON/O2. 3101282</td>\n",
       "      <td>7.9250</td>\n",
       "      <td>NaN</td>\n",
       "      <td>S</td>\n",
       "    </tr>\n",
       "    <tr>\n",
       "      <th>3</th>\n",
       "      <td>4</td>\n",
       "      <td>1</td>\n",
       "      <td>1</td>\n",
       "      <td>Futrelle, Mrs. Jacques Heath (Lily May Peel)</td>\n",
       "      <td>female</td>\n",
       "      <td>35.0</td>\n",
       "      <td>1</td>\n",
       "      <td>0</td>\n",
       "      <td>113803</td>\n",
       "      <td>53.1000</td>\n",
       "      <td>C123</td>\n",
       "      <td>S</td>\n",
       "    </tr>\n",
       "    <tr>\n",
       "      <th>4</th>\n",
       "      <td>5</td>\n",
       "      <td>0</td>\n",
       "      <td>3</td>\n",
       "      <td>Allen, Mr. William Henry</td>\n",
       "      <td>male</td>\n",
       "      <td>35.0</td>\n",
       "      <td>0</td>\n",
       "      <td>0</td>\n",
       "      <td>373450</td>\n",
       "      <td>8.0500</td>\n",
       "      <td>NaN</td>\n",
       "      <td>S</td>\n",
       "    </tr>\n",
       "  </tbody>\n",
       "</table>\n",
       "</div>"
      ],
      "text/plain": [
       "   PassengerId  Survived  Pclass  \\\n",
       "0            1         0       3   \n",
       "1            2         1       1   \n",
       "2            3         1       3   \n",
       "3            4         1       1   \n",
       "4            5         0       3   \n",
       "\n",
       "                                                Name     Sex   Age  SibSp  \\\n",
       "0                            Braund, Mr. Owen Harris    male  22.0      1   \n",
       "1  Cumings, Mrs. John Bradley (Florence Briggs Th...  female  38.0      1   \n",
       "2                             Heikkinen, Miss. Laina  female  26.0      0   \n",
       "3       Futrelle, Mrs. Jacques Heath (Lily May Peel)  female  35.0      1   \n",
       "4                           Allen, Mr. William Henry    male  35.0      0   \n",
       "\n",
       "   Parch            Ticket     Fare Cabin Embarked  \n",
       "0      0         A/5 21171   7.2500   NaN        S  \n",
       "1      0          PC 17599  71.2833   C85        C  \n",
       "2      0  STON/O2. 3101282   7.9250   NaN        S  \n",
       "3      0            113803  53.1000  C123        S  \n",
       "4      0            373450   8.0500   NaN        S  "
      ]
     },
     "execution_count": 484,
     "metadata": {},
     "output_type": "execute_result"
    }
   ],
   "source": [
    "train_data.head()"
   ]
  },
  {
   "cell_type": "code",
   "execution_count": 485,
   "metadata": {
    "_cell_guid": "f20a7395-5e2a-4dde-bada-2749e51bd1b5",
    "_uuid": "ef32b596-4920-4de2-8be3-6f589129709f",
    "execution": {
     "iopub.execute_input": "2024-02-06T19:13:18.923723Z",
     "iopub.status.busy": "2024-02-06T19:13:18.922847Z",
     "iopub.status.idle": "2024-02-06T19:13:18.936030Z",
     "shell.execute_reply": "2024-02-06T19:13:18.935165Z",
     "shell.execute_reply.started": "2024-02-06T19:13:18.923688Z"
    },
    "jupyter": {
     "outputs_hidden": false
    }
   },
   "outputs": [
    {
     "name": "stdout",
     "output_type": "stream",
     "text": [
      "<class 'pandas.core.frame.DataFrame'>\n",
      "RangeIndex: 891 entries, 0 to 890\n",
      "Data columns (total 12 columns):\n",
      " #   Column       Non-Null Count  Dtype  \n",
      "---  ------       --------------  -----  \n",
      " 0   PassengerId  891 non-null    int64  \n",
      " 1   Survived     891 non-null    int64  \n",
      " 2   Pclass       891 non-null    int64  \n",
      " 3   Name         891 non-null    object \n",
      " 4   Sex          891 non-null    object \n",
      " 5   Age          714 non-null    float64\n",
      " 6   SibSp        891 non-null    int64  \n",
      " 7   Parch        891 non-null    int64  \n",
      " 8   Ticket       891 non-null    object \n",
      " 9   Fare         891 non-null    float64\n",
      " 10  Cabin        204 non-null    object \n",
      " 11  Embarked     889 non-null    object \n",
      "dtypes: float64(2), int64(5), object(5)\n",
      "memory usage: 83.7+ KB\n"
     ]
    }
   ],
   "source": [
    "train_data.info()"
   ]
  },
  {
   "cell_type": "code",
   "execution_count": 486,
   "metadata": {
    "_cell_guid": "d1f295a7-e706-469b-bf9b-a825d0716818",
    "_uuid": "65b356d4-0659-470b-81ea-f78c6d6fc9cf",
    "execution": {
     "iopub.execute_input": "2024-02-06T19:13:18.938151Z",
     "iopub.status.busy": "2024-02-06T19:13:18.937677Z",
     "iopub.status.idle": "2024-02-06T19:13:18.953689Z",
     "shell.execute_reply": "2024-02-06T19:13:18.952541Z",
     "shell.execute_reply.started": "2024-02-06T19:13:18.938113Z"
    },
    "jupyter": {
     "outputs_hidden": false
    }
   },
   "outputs": [
    {
     "name": "stdout",
     "output_type": "stream",
     "text": [
      "<class 'pandas.core.frame.DataFrame'>\n",
      "RangeIndex: 418 entries, 0 to 417\n",
      "Data columns (total 11 columns):\n",
      " #   Column       Non-Null Count  Dtype  \n",
      "---  ------       --------------  -----  \n",
      " 0   PassengerId  418 non-null    int64  \n",
      " 1   Pclass       418 non-null    int64  \n",
      " 2   Name         418 non-null    object \n",
      " 3   Sex          418 non-null    object \n",
      " 4   Age          332 non-null    float64\n",
      " 5   SibSp        418 non-null    int64  \n",
      " 6   Parch        418 non-null    int64  \n",
      " 7   Ticket       418 non-null    object \n",
      " 8   Fare         417 non-null    float64\n",
      " 9   Cabin        91 non-null     object \n",
      " 10  Embarked     418 non-null    object \n",
      "dtypes: float64(2), int64(4), object(5)\n",
      "memory usage: 36.0+ KB\n"
     ]
    }
   ],
   "source": [
    "test_data.info()"
   ]
  },
  {
   "cell_type": "code",
   "execution_count": 487,
   "metadata": {
    "_cell_guid": "b3afaa8b-1b27-4541-b859-d3f509c9588b",
    "_uuid": "fed16e9c-652d-429b-a02d-2ff5a515b1d6",
    "execution": {
     "iopub.execute_input": "2024-02-06T19:13:18.957538Z",
     "iopub.status.busy": "2024-02-06T19:13:18.956403Z",
     "iopub.status.idle": "2024-02-06T19:13:18.993521Z",
     "shell.execute_reply": "2024-02-06T19:13:18.992283Z",
     "shell.execute_reply.started": "2024-02-06T19:13:18.957502Z"
    },
    "jupyter": {
     "outputs_hidden": false
    }
   },
   "outputs": [
    {
     "data": {
      "text/html": [
       "<div>\n",
       "<style scoped>\n",
       "    .dataframe tbody tr th:only-of-type {\n",
       "        vertical-align: middle;\n",
       "    }\n",
       "\n",
       "    .dataframe tbody tr th {\n",
       "        vertical-align: top;\n",
       "    }\n",
       "\n",
       "    .dataframe thead th {\n",
       "        text-align: right;\n",
       "    }\n",
       "</style>\n",
       "<table border=\"1\" class=\"dataframe\">\n",
       "  <thead>\n",
       "    <tr style=\"text-align: right;\">\n",
       "      <th></th>\n",
       "      <th>PassengerId</th>\n",
       "      <th>Survived</th>\n",
       "      <th>Pclass</th>\n",
       "      <th>Age</th>\n",
       "      <th>SibSp</th>\n",
       "      <th>Parch</th>\n",
       "      <th>Fare</th>\n",
       "    </tr>\n",
       "  </thead>\n",
       "  <tbody>\n",
       "    <tr>\n",
       "      <th>count</th>\n",
       "      <td>891.000000</td>\n",
       "      <td>891.000000</td>\n",
       "      <td>891.000000</td>\n",
       "      <td>714.000000</td>\n",
       "      <td>891.000000</td>\n",
       "      <td>891.000000</td>\n",
       "      <td>891.000000</td>\n",
       "    </tr>\n",
       "    <tr>\n",
       "      <th>mean</th>\n",
       "      <td>446.000000</td>\n",
       "      <td>0.383838</td>\n",
       "      <td>2.308642</td>\n",
       "      <td>29.699118</td>\n",
       "      <td>0.523008</td>\n",
       "      <td>0.381594</td>\n",
       "      <td>32.204208</td>\n",
       "    </tr>\n",
       "    <tr>\n",
       "      <th>std</th>\n",
       "      <td>257.353842</td>\n",
       "      <td>0.486592</td>\n",
       "      <td>0.836071</td>\n",
       "      <td>14.526497</td>\n",
       "      <td>1.102743</td>\n",
       "      <td>0.806057</td>\n",
       "      <td>49.693429</td>\n",
       "    </tr>\n",
       "    <tr>\n",
       "      <th>min</th>\n",
       "      <td>1.000000</td>\n",
       "      <td>0.000000</td>\n",
       "      <td>1.000000</td>\n",
       "      <td>0.420000</td>\n",
       "      <td>0.000000</td>\n",
       "      <td>0.000000</td>\n",
       "      <td>0.000000</td>\n",
       "    </tr>\n",
       "    <tr>\n",
       "      <th>25%</th>\n",
       "      <td>223.500000</td>\n",
       "      <td>0.000000</td>\n",
       "      <td>2.000000</td>\n",
       "      <td>20.125000</td>\n",
       "      <td>0.000000</td>\n",
       "      <td>0.000000</td>\n",
       "      <td>7.910400</td>\n",
       "    </tr>\n",
       "    <tr>\n",
       "      <th>50%</th>\n",
       "      <td>446.000000</td>\n",
       "      <td>0.000000</td>\n",
       "      <td>3.000000</td>\n",
       "      <td>28.000000</td>\n",
       "      <td>0.000000</td>\n",
       "      <td>0.000000</td>\n",
       "      <td>14.454200</td>\n",
       "    </tr>\n",
       "    <tr>\n",
       "      <th>75%</th>\n",
       "      <td>668.500000</td>\n",
       "      <td>1.000000</td>\n",
       "      <td>3.000000</td>\n",
       "      <td>38.000000</td>\n",
       "      <td>1.000000</td>\n",
       "      <td>0.000000</td>\n",
       "      <td>31.000000</td>\n",
       "    </tr>\n",
       "    <tr>\n",
       "      <th>max</th>\n",
       "      <td>891.000000</td>\n",
       "      <td>1.000000</td>\n",
       "      <td>3.000000</td>\n",
       "      <td>80.000000</td>\n",
       "      <td>8.000000</td>\n",
       "      <td>6.000000</td>\n",
       "      <td>512.329200</td>\n",
       "    </tr>\n",
       "  </tbody>\n",
       "</table>\n",
       "</div>"
      ],
      "text/plain": [
       "       PassengerId    Survived      Pclass         Age       SibSp  \\\n",
       "count   891.000000  891.000000  891.000000  714.000000  891.000000   \n",
       "mean    446.000000    0.383838    2.308642   29.699118    0.523008   \n",
       "std     257.353842    0.486592    0.836071   14.526497    1.102743   \n",
       "min       1.000000    0.000000    1.000000    0.420000    0.000000   \n",
       "25%     223.500000    0.000000    2.000000   20.125000    0.000000   \n",
       "50%     446.000000    0.000000    3.000000   28.000000    0.000000   \n",
       "75%     668.500000    1.000000    3.000000   38.000000    1.000000   \n",
       "max     891.000000    1.000000    3.000000   80.000000    8.000000   \n",
       "\n",
       "            Parch        Fare  \n",
       "count  891.000000  891.000000  \n",
       "mean     0.381594   32.204208  \n",
       "std      0.806057   49.693429  \n",
       "min      0.000000    0.000000  \n",
       "25%      0.000000    7.910400  \n",
       "50%      0.000000   14.454200  \n",
       "75%      0.000000   31.000000  \n",
       "max      6.000000  512.329200  "
      ]
     },
     "execution_count": 487,
     "metadata": {},
     "output_type": "execute_result"
    }
   ],
   "source": [
    "train_data.describe()"
   ]
  },
  {
   "cell_type": "markdown",
   "metadata": {},
   "source": [
    "## **38% of passengers survived the disaster**"
   ]
  },
  {
   "cell_type": "code",
   "execution_count": 488,
   "metadata": {
    "_cell_guid": "81bbcc70-a9db-4c5a-b0e1-0f4a0760df50",
    "_uuid": "a1347ee3-455b-494b-b7d5-8a4195fbab80",
    "execution": {
     "iopub.execute_input": "2024-02-06T19:13:18.996224Z",
     "iopub.status.busy": "2024-02-06T19:13:18.995872Z",
     "iopub.status.idle": "2024-02-06T19:13:19.006287Z",
     "shell.execute_reply": "2024-02-06T19:13:19.004857Z",
     "shell.execute_reply.started": "2024-02-06T19:13:18.996178Z"
    },
    "jupyter": {
     "outputs_hidden": false
    }
   },
   "outputs": [
    {
     "data": {
      "text/plain": [
       "Survived\n",
       "0    0.616162\n",
       "1    0.383838\n",
       "Name: proportion, dtype: float64"
      ]
     },
     "execution_count": 488,
     "metadata": {},
     "output_type": "execute_result"
    }
   ],
   "source": [
    "train_data[\"Survived\"].value_counts(normalize=True)"
   ]
  },
  {
   "cell_type": "markdown",
   "metadata": {},
   "source": [
    "## **Over 70% women passengers had survived, being only 35% of total passengers count**\n",
    "\n",
    "**From historical records we know, that women and children had the priority.**"
   ]
  },
  {
   "cell_type": "code",
   "execution_count": 489,
   "metadata": {
    "execution": {
     "iopub.execute_input": "2024-02-06T19:13:19.008048Z",
     "iopub.status.busy": "2024-02-06T19:13:19.007660Z",
     "iopub.status.idle": "2024-02-06T19:13:19.020611Z",
     "shell.execute_reply": "2024-02-06T19:13:19.019392Z",
     "shell.execute_reply.started": "2024-02-06T19:13:19.008014Z"
    }
   },
   "outputs": [
    {
     "data": {
      "text/plain": [
       "Sex\n",
       "male      0.647587\n",
       "female    0.352413\n",
       "Name: proportion, dtype: float64"
      ]
     },
     "execution_count": 489,
     "metadata": {},
     "output_type": "execute_result"
    }
   ],
   "source": [
    "train_data[\"Sex\"].value_counts(normalize=True)"
   ]
  },
  {
   "cell_type": "code",
   "execution_count": 490,
   "metadata": {
    "execution": {
     "iopub.execute_input": "2024-02-06T19:13:19.023940Z",
     "iopub.status.busy": "2024-02-06T19:13:19.023485Z",
     "iopub.status.idle": "2024-02-06T19:13:19.619723Z",
     "shell.execute_reply": "2024-02-06T19:13:19.618615Z",
     "shell.execute_reply.started": "2024-02-06T19:13:19.023895Z"
    }
   },
   "outputs": [
    {
     "data": {
      "image/png": "[encoded data removed]",
      "text/plain": [
       "<Figure size 800x400 with 2 Axes>"
      ]
     },
     "metadata": {},
     "output_type": "display_data"
    }
   ],
   "source": [
    "fig, axarr = plt.subplots(1, 2, figsize=(8,4))\n",
    "#sns.countplot(x='Sex', data=train_data, ax=axarr[0])\n",
    "sns.barplot(x=train_data.Sex.value_counts(normalize=True).index, y=train_data.Sex.value_counts(normalize=True), ax=axarr[0]).set_ylabel('Passengers rate')\n",
    "axarr[0].set_title('Passengers rate by sex')\n",
    "axarr[1].set_title('Survival rate by sex')\n",
    "b = sns.barplot(x='Sex', y='Survived', data=train_data, ax=axarr[1]).set_ylabel('Survival rate')"
   ]
  },
  {
   "cell_type": "markdown",
   "metadata": {},
   "source": []
  },
  {
   "cell_type": "markdown",
   "metadata": {},
   "source": [
    "# **Columns Fare and Pclass have significant correlation with survival column** \n",
    "\n",
    "**Other numerical columns - Age, Parch and SibSp show some influence on survival column.**"
   ]
  },
  {
   "cell_type": "code",
   "execution_count": 491,
   "metadata": {
    "execution": {
     "iopub.execute_input": "2024-02-06T19:13:19.622431Z",
     "iopub.status.busy": "2024-02-06T19:13:19.621469Z",
     "iopub.status.idle": "2024-02-06T19:13:19.632169Z",
     "shell.execute_reply": "2024-02-06T19:13:19.630864Z",
     "shell.execute_reply.started": "2024-02-06T19:13:19.622384Z"
    }
   },
   "outputs": [
    {
     "data": {
      "text/plain": [
       "PassengerId      int64\n",
       "Survived         int64\n",
       "Pclass           int64\n",
       "Name            object\n",
       "Sex             object\n",
       "Age            float64\n",
       "SibSp            int64\n",
       "Parch            int64\n",
       "Ticket          object\n",
       "Fare           float64\n",
       "Cabin           object\n",
       "Embarked        object\n",
       "dtype: object"
      ]
     },
     "execution_count": 491,
     "metadata": {},
     "output_type": "execute_result"
    }
   ],
   "source": [
    "train_data.dtypes"
   ]
  },
  {
   "cell_type": "code",
   "execution_count": 492,
   "metadata": {
    "execution": {
     "iopub.execute_input": "2024-02-06T19:13:19.634569Z",
     "iopub.status.busy": "2024-02-06T19:13:19.634073Z",
     "iopub.status.idle": "2024-02-06T19:13:19.649764Z",
     "shell.execute_reply": "2024-02-06T19:13:19.648290Z",
     "shell.execute_reply.started": "2024-02-06T19:13:19.634524Z"
    }
   },
   "outputs": [
    {
     "data": {
      "text/plain": [
       "Survived       1.000000\n",
       "Fare           0.257307\n",
       "Parch          0.081629\n",
       "PassengerId   -0.005007\n",
       "SibSp         -0.035322\n",
       "Age           -0.077221\n",
       "Pclass        -0.338481\n",
       "Name: Survived, dtype: float64"
      ]
     },
     "execution_count": 492,
     "metadata": {},
     "output_type": "execute_result"
    }
   ],
   "source": [
    "numerical_df = train_data.select_dtypes(include=['float64', 'int64'])\n",
    "corr_matrix = numerical_df.corr()\n",
    "corr_matrix[\"Survived\"].sort_values(ascending=False)"
   ]
  },
  {
   "cell_type": "markdown",
   "metadata": {},
   "source": [
    "## **Chance of survival is above 60%, if people paid more than $70 for a ticket**"
   ]
  },
  {
   "cell_type": "code",
   "execution_count": 493,
   "metadata": {
    "execution": {
     "iopub.execute_input": "2024-02-06T19:13:19.651790Z",
     "iopub.status.busy": "2024-02-06T19:13:19.651398Z",
     "iopub.status.idle": "2024-02-06T19:13:20.083087Z",
     "shell.execute_reply": "2024-02-06T19:13:20.081657Z",
     "shell.execute_reply.started": "2024-02-06T19:13:19.651754Z"
    }
   },
   "outputs": [
    {
     "data": {
      "text/plain": [
       "Text(0.5, 1.0, 'Survival rate by ticket price')"
      ]
     },
     "execution_count": 493,
     "metadata": {},
     "output_type": "execute_result"
    },
    {
     "data": {
      "image/png": "[encoded data removed]",
      "text/plain": [
       "<Figure size 640x480 with 1 Axes>"
      ]
     },
     "metadata": {},
     "output_type": "display_data"
    }
   ],
   "source": [
    "g = train_data['Survived'].groupby(pd.cut(train_data['Fare'], [0,5,10,20,40,70,100,1000])).mean().plot(kind='bar')\n",
    "g.set_ylabel(\"Survival rate\")\n",
    "g.set_title(\"Survival rate by ticket price\")"
   ]
  },
  {
   "cell_type": "markdown",
   "metadata": {},
   "source": [
    "## **Being 3rd class male passenger meant less than 15% chance of survival**\n",
    "**1st class male passegers survived with 36% chance, which is over overall survival rate for male passengers(<20%).**\n",
    "\n",
    "**1st and 2nd class female passengers survived with a chance over 92%**"
   ]
  },
  {
   "cell_type": "code",
   "execution_count": 494,
   "metadata": {
    "execution": {
     "iopub.execute_input": "2024-02-06T19:13:20.087188Z",
     "iopub.status.busy": "2024-02-06T19:13:20.086356Z",
     "iopub.status.idle": "2024-02-06T19:13:20.697256Z",
     "shell.execute_reply": "2024-02-06T19:13:20.696153Z",
     "shell.execute_reply.started": "2024-02-06T19:13:20.087152Z"
    }
   },
   "outputs": [
    {
     "name": "stdout",
     "output_type": "stream",
     "text": [
      "Pclass  Sex   \n",
      "1       female    0.968085\n",
      "        male      0.368852\n",
      "2       female    0.921053\n",
      "        male      0.157407\n",
      "3       female    0.500000\n",
      "        male      0.135447\n",
      "Name: Survived, dtype: float64\n"
     ]
    },
    {
     "data": {
      "image/png": "[encoded data removed]",
      "text/plain": [
       "<Figure size 640x480 with 1 Axes>"
      ]
     },
     "metadata": {},
     "output_type": "display_data"
    }
   ],
   "source": [
    "print(train_data.groupby(['Pclass', 'Sex'])['Survived'].mean())\n",
    "plt.title('Survival rate by Pclass and Sex')\n",
    "g = sns.barplot(x=train_data.Pclass, y=train_data.Survived, hue=train_data.Sex).set_ylabel('Survival rate')\n"
   ]
  },
  {
   "cell_type": "markdown",
   "metadata": {
    "_cell_guid": "57ec9a58-3272-4b50-83df-5218c2a3f995",
    "_uuid": "871d9f34-0482-4dae-bc7b-b1063666f5c4"
   },
   "source": [
    "# **What is the best way to fill missing values at Age column?**\n",
    "**Age has about 20% missing values in the dataset. The approach how to fill the missing data can significantly influence the resulting data.**\n",
    "\n",
    "I will try three different approaches to fill missing data in the Age column. \n",
    "Fill the missing values with:\n",
    "- mean from all rows of 'Age' column\n",
    "- Each missing value will be filled with correspodding mean grouped by 'Pclass', 'SibSp', 'Parch' and 'Title' columns\n",
    "- K-nearest neighbours (KNN)\n",
    "\n",
    "Next code cell prepares the data for all three approaches."
   ]
  },
  {
   "cell_type": "code",
   "execution_count": 495,
   "metadata": {
    "_cell_guid": "38eddb86-f7e9-444e-b759-ab732919c150",
    "_uuid": "53d7a9c6-7a18-4a44-a530-7d1b5a7ad281",
    "execution": {
     "iopub.execute_input": "2024-02-06T19:13:20.699432Z",
     "iopub.status.busy": "2024-02-06T19:13:20.698867Z",
     "iopub.status.idle": "2024-02-06T19:13:20.771052Z",
     "shell.execute_reply": "2024-02-06T19:13:20.769880Z",
     "shell.execute_reply.started": "2024-02-06T19:13:20.699398Z"
    },
    "jupyter": {
     "outputs_hidden": false
    }
   },
   "outputs": [
    {
     "data": {
      "text/html": [
       "<div>\n",
       "<style scoped>\n",
       "    .dataframe tbody tr th:only-of-type {\n",
       "        vertical-align: middle;\n",
       "    }\n",
       "\n",
       "    .dataframe tbody tr th {\n",
       "        vertical-align: top;\n",
       "    }\n",
       "\n",
       "    .dataframe thead th {\n",
       "        text-align: right;\n",
       "    }\n",
       "</style>\n",
       "<table border=\"1\" class=\"dataframe\">\n",
       "  <thead>\n",
       "    <tr style=\"text-align: right;\">\n",
       "      <th></th>\n",
       "      <th>Age</th>\n",
       "      <th>Age_Imputed</th>\n",
       "    </tr>\n",
       "  </thead>\n",
       "  <tbody>\n",
       "    <tr>\n",
       "      <th>0</th>\n",
       "      <td>22.0</td>\n",
       "      <td>22.0</td>\n",
       "    </tr>\n",
       "    <tr>\n",
       "      <th>1</th>\n",
       "      <td>38.0</td>\n",
       "      <td>38.0</td>\n",
       "    </tr>\n",
       "    <tr>\n",
       "      <th>2</th>\n",
       "      <td>26.0</td>\n",
       "      <td>26.0</td>\n",
       "    </tr>\n",
       "    <tr>\n",
       "      <th>3</th>\n",
       "      <td>35.0</td>\n",
       "      <td>35.0</td>\n",
       "    </tr>\n",
       "    <tr>\n",
       "      <th>4</th>\n",
       "      <td>35.0</td>\n",
       "      <td>35.0</td>\n",
       "    </tr>\n",
       "    <tr>\n",
       "      <th>5</th>\n",
       "      <td>NaN</td>\n",
       "      <td>24.2</td>\n",
       "    </tr>\n",
       "    <tr>\n",
       "      <th>6</th>\n",
       "      <td>54.0</td>\n",
       "      <td>54.0</td>\n",
       "    </tr>\n",
       "    <tr>\n",
       "      <th>7</th>\n",
       "      <td>2.0</td>\n",
       "      <td>2.0</td>\n",
       "    </tr>\n",
       "    <tr>\n",
       "      <th>8</th>\n",
       "      <td>27.0</td>\n",
       "      <td>27.0</td>\n",
       "    </tr>\n",
       "    <tr>\n",
       "      <th>9</th>\n",
       "      <td>14.0</td>\n",
       "      <td>14.0</td>\n",
       "    </tr>\n",
       "  </tbody>\n",
       "</table>\n",
       "</div>"
      ],
      "text/plain": [
       "    Age  Age_Imputed\n",
       "0  22.0         22.0\n",
       "1  38.0         38.0\n",
       "2  26.0         26.0\n",
       "3  35.0         35.0\n",
       "4  35.0         35.0\n",
       "5   NaN         24.2\n",
       "6  54.0         54.0\n",
       "7   2.0          2.0\n",
       "8  27.0         27.0\n",
       "9  14.0         14.0"
      ]
     },
     "execution_count": 495,
     "metadata": {},
     "output_type": "execute_result"
    }
   ],
   "source": [
    "from sklearn.impute import KNNImputer\n",
    "from sklearn.preprocessing import OneHotEncoder\n",
    "from sklearn.preprocessing import LabelEncoder\n",
    "import matplotlib.pyplot as plt\n",
    "import seaborn as sns\n",
    "\n",
    "# Prepare Title column \n",
    "train_data['Title'] = train_data['Name'].apply(lambda x: x.split(',')[1].split('.')[0].strip())\n",
    "train_data['Title'].replace(['Mme', 'Ms', 'Lady', 'Mlle', 'the Countess', 'Dona'], 'Miss', inplace=True)\n",
    "train_data['Title'].replace(['Major', 'Col', 'Capt', 'Don', 'Sir', 'Jonkheer'], 'Mr', inplace=True)\n",
    "\n",
    "# --------------------------------------------------------------------------------------\n",
    "# Fill missing values in the \"Age\" column with mean of the whole column\n",
    "X_transf_general = train_data.copy()\n",
    "X_transf_general[\"Age\"] = X_transf_general[\"Age\"].fillna(X_transf_general[\"Age\"].mean())\n",
    "# --------------------------------------------------------------------------------------\n",
    "\n",
    "# --------------------------------------------------------------------------------------\n",
    "# Fill missing values in the \"Age\" column with mean for category 'Pclass', 'SibSp', 'Parch' and 'Title'\n",
    "X_transformed = train_data.copy()\n",
    "#age_means = X_transformed.groupby(['Pclass', 'Sex', 'Title'])['Age'].transform('mean')\n",
    "age_means = X_transformed.groupby(['Pclass', 'SibSp', 'Parch', 'Title'])['Age'].transform('mean')\n",
    "\n",
    "X_transformed['Age'] = X_transformed['Age'].fillna(age_means)\n",
    "# --------------------------------------------------------------------------------------\n",
    "\n",
    "\n",
    "# --------------------------------------------------------------------------------------\n",
    "# Fill missing values in the \"Age\" column with Predictive Imputation using KNN\n",
    "#X_transformed_knn = train_data.copy()\n",
    "\n",
    "# Drop the columns which will not be used for prediction\n",
    "#X_transformed_knn = X_transformed_knn.drop(['Ticket', 'Name', 'Cabin', 'Embarked', 'Sex'], axis=1)\n",
    "\n",
    "# OneHot encode non-numerical columns 'Sex' and 'Title'\n",
    "#encoder = OneHotEncoder(sparse_output=False, handle_unknown='ignore')\n",
    "#encoded_cols = encoder.fit_transform(X_transformed_knn[['Sex', 'Title']])\n",
    "#encoded_df = pd.DataFrame(encoded_cols, columns=encoder.get_feature_names_out(['Sex', 'Title']))\n",
    "\n",
    "# Combine with original data\n",
    "#X_encoded = pd.concat([X_transformed_knn.drop(['Sex', 'Title'], axis=1), encoded_df], axis=1)\n",
    "\n",
    "# Predict the Age with K-Nearest Neighbours method\n",
    "#imputer = KNNImputer(n_neighbors=3, weights='distance')\n",
    "#X_imputed = imputer.fit_transform(X_encoded)\n",
    "#X_imputed = pd.DataFrame(X_imputed, columns=X_encoded.columns)\n",
    "#X_imputed\n",
    "# --------------------------------------------------------------------------------------\n",
    "X_transformed_knn = train_data.copy()\n",
    "\n",
    "# Encoding the 'Title' column\n",
    "label_encoder = LabelEncoder()\n",
    "X_transformed_knn['Title_encoded'] = label_encoder.fit_transform(X_transformed_knn['Title'])\n",
    "\n",
    "# Selecting the columns for KNN imputation\n",
    "impute_columns = ['Pclass', 'SibSp', 'Parch', 'Fare', 'Age', 'Title_encoded']\n",
    "impute_data = X_transformed_knn[impute_columns]\n",
    "\n",
    "# Setting up the KNN Imputer\n",
    "knn_imputer = KNNImputer(n_neighbors=5)\n",
    "\n",
    "# Imputing the missing values in the dataset\n",
    "imputed_data = knn_imputer.fit_transform(impute_data)\n",
    "\n",
    "# The imputed age values\n",
    "imputed_ages = imputed_data[:, impute_columns.index('Age')]\n",
    "\n",
    "# Adding the imputed ages back to the original dataframe\n",
    "X_transformed_knn['Age_Imputed'] = imputed_ages\n",
    "\n",
    "# Displaying the original Age and the Imputed Age for comparison\n",
    "X_transformed_knn[['Age', 'Age_Imputed']].head(10)\n",
    "\n",
    "#X_transformed_knn['Age'] = X_transformed_knn['Age_Imputed']\n",
    "#X_transformed_knn = X_transformed_knn.drop('Age_Imputed', axis=1)\n",
    "\n"
   ]
  },
  {
   "cell_type": "markdown",
   "metadata": {},
   "source": [
    "## **Graphical representation**\n",
    "\n",
    "For visual comparisson of the three aproaches described above I use a kernel density estimate (KDE) plots, to compare distribution and variability."
   ]
  },
  {
   "cell_type": "code",
   "execution_count": 496,
   "metadata": {
    "_cell_guid": "092767a2-adfa-4129-b462-99f79e5a86bf",
    "_uuid": "a0f3d808-4575-4df3-9dcf-5b5ab9db7c7e",
    "execution": {
     "iopub.execute_input": "2024-02-06T19:13:20.774058Z",
     "iopub.status.busy": "2024-02-06T19:13:20.772913Z",
     "iopub.status.idle": "2024-02-06T19:13:24.023693Z",
     "shell.execute_reply": "2024-02-06T19:13:24.022531Z",
     "shell.execute_reply.started": "2024-02-06T19:13:20.774010Z"
    },
    "jupyter": {
     "outputs_hidden": false
    }
   },
   "outputs": [
    {
     "data": {
      "image/png": "[encoded data removed]",
      "text/plain": [
       "<Figure size 1500x1800 with 6 Axes>"
      ]
     },
     "metadata": {},
     "output_type": "display_data"
    }
   ],
   "source": [
    "fig, axarr = plt.subplots(3,2,figsize=(15,18))\n",
    "\n",
    "axarr[0][0].set_title('Ways for data imputation')\n",
    "g = sns.kdeplot(train_data['Age'], \n",
    "                fill=True, ax=axarr[0][0], label='Original dataset')\n",
    "g = sns.kdeplot(X_transf_general['Age'], \n",
    "                fill=True, ax=axarr[0][0], label='Mean \"Age\"').set_xlabel('Age')\n",
    "g = sns.kdeplot(X_transformed['Age'], \n",
    "                fill=True, ax=axarr[0][0], label='Mean \"Age\" grouped (Sex, Pclass)')\n",
    "g = sns.kdeplot(X_transformed_knn['Age_Imputed'], \n",
    "                fill=True, ax=axarr[0][0], label='KNN')\n",
    "g.legend()\n",
    "\n",
    "axarr[0][1].set_title('Original dataset')\n",
    "axarr[1][0].set_title('Age imputed using mean')\n",
    "axarr[1][1].set_title('Age imputed using mean grouped features')\n",
    "axarr[2][0].set_title('Age imputed using KNN')\n",
    "\n",
    "f = sns.histplot(train_data['Age'], color='g', bins=40, kde=True, stat='density', ax=axarr[0][1])\n",
    "f = sns.histplot(X_transf_general['Age'], color='g', bins=40, kde=True, stat='density', ax=axarr[1][0])\n",
    "f = sns.histplot(X_transformed['Age'], color='g', bins=40, kde=True, stat='density', ax=axarr[1][1])\n",
    "f = sns.histplot(X_transformed_knn['Age_Imputed'], color='g', bins=40, kde=True, stat='density', ax=axarr[2][0])"
   ]
  },
  {
   "cell_type": "markdown",
   "metadata": {},
   "source": [
    "## **Numerical representation**"
   ]
  },
  {
   "cell_type": "code",
   "execution_count": 497,
   "metadata": {
    "execution": {
     "iopub.execute_input": "2024-02-06T19:13:24.026349Z",
     "iopub.status.busy": "2024-02-06T19:13:24.025150Z",
     "iopub.status.idle": "2024-02-06T19:13:24.056138Z",
     "shell.execute_reply": "2024-02-06T19:13:24.054865Z",
     "shell.execute_reply.started": "2024-02-06T19:13:24.026287Z"
    }
   },
   "outputs": [
    {
     "data": {
      "text/html": [
       "<div>\n",
       "<style scoped>\n",
       "    .dataframe tbody tr th:only-of-type {\n",
       "        vertical-align: middle;\n",
       "    }\n",
       "\n",
       "    .dataframe tbody tr th {\n",
       "        vertical-align: top;\n",
       "    }\n",
       "\n",
       "    .dataframe thead th {\n",
       "        text-align: right;\n",
       "    }\n",
       "</style>\n",
       "<table border=\"1\" class=\"dataframe\">\n",
       "  <thead>\n",
       "    <tr style=\"text-align: right;\">\n",
       "      <th></th>\n",
       "      <th>mean_age</th>\n",
       "      <th>median_age</th>\n",
       "      <th>mode_age</th>\n",
       "      <th>range_age</th>\n",
       "      <th>variance_age</th>\n",
       "      <th>std_dev_age</th>\n",
       "      <th>method</th>\n",
       "    </tr>\n",
       "  </thead>\n",
       "  <tbody>\n",
       "    <tr>\n",
       "      <th>0</th>\n",
       "      <td>29.699118</td>\n",
       "      <td>28.000000</td>\n",
       "      <td>24.000000</td>\n",
       "      <td>79.58</td>\n",
       "      <td>211.019125</td>\n",
       "      <td>14.526497</td>\n",
       "      <td>Original</td>\n",
       "    </tr>\n",
       "    <tr>\n",
       "      <th>1</th>\n",
       "      <td>29.699118</td>\n",
       "      <td>29.699118</td>\n",
       "      <td>29.699118</td>\n",
       "      <td>79.58</td>\n",
       "      <td>169.052400</td>\n",
       "      <td>13.002015</td>\n",
       "      <td>Mean</td>\n",
       "    </tr>\n",
       "    <tr>\n",
       "      <th>2</th>\n",
       "      <td>29.711559</td>\n",
       "      <td>29.184492</td>\n",
       "      <td>29.184492</td>\n",
       "      <td>79.58</td>\n",
       "      <td>185.977360</td>\n",
       "      <td>13.637352</td>\n",
       "      <td>Mean grouped</td>\n",
       "    </tr>\n",
       "    <tr>\n",
       "      <th>3</th>\n",
       "      <td>29.699118</td>\n",
       "      <td>28.000000</td>\n",
       "      <td>24.000000</td>\n",
       "      <td>79.58</td>\n",
       "      <td>211.019125</td>\n",
       "      <td>14.526497</td>\n",
       "      <td>KNN</td>\n",
       "    </tr>\n",
       "  </tbody>\n",
       "</table>\n",
       "</div>"
      ],
      "text/plain": [
       "    mean_age  median_age   mode_age  range_age  variance_age  std_dev_age  \\\n",
       "0  29.699118   28.000000  24.000000      79.58    211.019125    14.526497   \n",
       "1  29.699118   29.699118  29.699118      79.58    169.052400    13.002015   \n",
       "2  29.711559   29.184492  29.184492      79.58    185.977360    13.637352   \n",
       "3  29.699118   28.000000  24.000000      79.58    211.019125    14.526497   \n",
       "\n",
       "         method  \n",
       "0      Original  \n",
       "1          Mean  \n",
       "2  Mean grouped  \n",
       "3           KNN  "
      ]
     },
     "execution_count": 497,
     "metadata": {},
     "output_type": "execute_result"
    }
   ],
   "source": [
    "dfs = {'Original' : train_data, 'Mean' : X_transf_general, 'Mean grouped' : X_transformed, 'KNN' : X_transformed_knn}\n",
    "stats = []\n",
    "for method in dfs:\n",
    "    # Central Tendency\n",
    "    mean_age = dfs[method]['Age'].mean()\n",
    "    median_age = dfs[method]['Age'].median()\n",
    "    mode_age = dfs[method]['Age'].mode()\n",
    "\n",
    "    # Variability\n",
    "    range_age = dfs[method]['Age'].max() - dfs[method]['Age'].min()\n",
    "    variance_age = dfs[method]['Age'].var()\n",
    "    std_dev_age = dfs[method]['Age'].std()\n",
    "    \n",
    "    stats.append({'mean_age' : mean_age, 'median_age' : median_age, 'mode_age' : mode_age[0], 'range_age' : range_age, 'variance_age' : variance_age, 'std_dev_age' : std_dev_age})\n",
    "\n",
    "    \n",
    "stats_df = pd.DataFrame(stats)\n",
    "stats_df['method'] = ['Original', 'Mean', 'Mean grouped', 'KNN']\n",
    "stats_df\n"
   ]
  },
  {
   "cell_type": "markdown",
   "metadata": {},
   "source": [
    "Seeing both KDE plots and numerical statistics, following applies:\n",
    "\n",
    "**Central tendency**:\n",
    "- KNN has a median age and mode age that are same as the original dataset, which might indicate that KNN is more effective at maintaining the distribution's shape, especially when considering the mode.\n",
    "\n",
    "**Variability**:\n",
    "- There's a noticeable decrease in variance and standard deviation in the mean imputation method compared to the original data, indicating that this method may reduce the overall variability in the dataset.\n",
    "- The group-based mean and KNN maintain a higher level of variance and standard deviation, closer to the original dataset, suggesting that these methods preserve the data's variability better than the simple mean imputation.\n",
    "\n",
    "**Conclusion**:\n",
    "- Althought KNN based imputation may look like good choice to impute the missing 'Age' values in terms of variability it doesn't imply accuracy of the imputed values. This can be verified using:\n",
    "    - cross-validation or\n",
    "    - review of the imputed data in the context of other features. For example: Do persons with 'Mrs' title have age considered as adulthood? Do persons with title \"Master\" have age indicating childhood?  "
   ]
  },
  {
   "cell_type": "markdown",
   "metadata": {},
   "source": [
    "## **Imputed Age for Title 'Master'**\n"
   ]
  },
  {
   "cell_type": "code",
   "execution_count": 498,
   "metadata": {
    "execution": {
     "iopub.execute_input": "2024-02-06T19:13:24.058037Z",
     "iopub.status.busy": "2024-02-06T19:13:24.057622Z",
     "iopub.status.idle": "2024-02-06T19:13:24.080262Z",
     "shell.execute_reply": "2024-02-06T19:13:24.079056Z",
     "shell.execute_reply.started": "2024-02-06T19:13:24.058001Z"
    }
   },
   "outputs": [
    {
     "data": {
      "text/html": [
       "<div>\n",
       "<style scoped>\n",
       "    .dataframe tbody tr th:only-of-type {\n",
       "        vertical-align: middle;\n",
       "    }\n",
       "\n",
       "    .dataframe tbody tr th {\n",
       "        vertical-align: top;\n",
       "    }\n",
       "\n",
       "    .dataframe thead th {\n",
       "        text-align: right;\n",
       "    }\n",
       "</style>\n",
       "<table border=\"1\" class=\"dataframe\">\n",
       "  <thead>\n",
       "    <tr style=\"text-align: right;\">\n",
       "      <th></th>\n",
       "      <th>PassengerId</th>\n",
       "      <th>Survived</th>\n",
       "      <th>Pclass</th>\n",
       "      <th>Name</th>\n",
       "      <th>Sex</th>\n",
       "      <th>Age</th>\n",
       "      <th>SibSp</th>\n",
       "      <th>Parch</th>\n",
       "      <th>Ticket</th>\n",
       "      <th>Fare</th>\n",
       "      <th>Cabin</th>\n",
       "      <th>Embarked</th>\n",
       "      <th>Title</th>\n",
       "      <th>Title_encoded</th>\n",
       "      <th>Age_Imputed</th>\n",
       "    </tr>\n",
       "  </thead>\n",
       "  <tbody>\n",
       "    <tr>\n",
       "      <th>65</th>\n",
       "      <td>66</td>\n",
       "      <td>1</td>\n",
       "      <td>3</td>\n",
       "      <td>Moubarek, Master. Gerios</td>\n",
       "      <td>male</td>\n",
       "      <td>NaN</td>\n",
       "      <td>1</td>\n",
       "      <td>1</td>\n",
       "      <td>2661</td>\n",
       "      <td>15.2458</td>\n",
       "      <td>NaN</td>\n",
       "      <td>C</td>\n",
       "      <td>Master</td>\n",
       "      <td>1</td>\n",
       "      <td>7.934</td>\n",
       "    </tr>\n",
       "    <tr>\n",
       "      <th>159</th>\n",
       "      <td>160</td>\n",
       "      <td>0</td>\n",
       "      <td>3</td>\n",
       "      <td>Sage, Master. Thomas Henry</td>\n",
       "      <td>male</td>\n",
       "      <td>NaN</td>\n",
       "      <td>8</td>\n",
       "      <td>2</td>\n",
       "      <td>CA. 2343</td>\n",
       "      <td>69.5500</td>\n",
       "      <td>NaN</td>\n",
       "      <td>S</td>\n",
       "      <td>Master</td>\n",
       "      <td>1</td>\n",
       "      <td>37.000</td>\n",
       "    </tr>\n",
       "    <tr>\n",
       "      <th>176</th>\n",
       "      <td>177</td>\n",
       "      <td>0</td>\n",
       "      <td>3</td>\n",
       "      <td>Lefebre, Master. Henry Forbes</td>\n",
       "      <td>male</td>\n",
       "      <td>NaN</td>\n",
       "      <td>3</td>\n",
       "      <td>1</td>\n",
       "      <td>4133</td>\n",
       "      <td>25.4667</td>\n",
       "      <td>NaN</td>\n",
       "      <td>S</td>\n",
       "      <td>Master</td>\n",
       "      <td>1</td>\n",
       "      <td>4.200</td>\n",
       "    </tr>\n",
       "    <tr>\n",
       "      <th>709</th>\n",
       "      <td>710</td>\n",
       "      <td>1</td>\n",
       "      <td>3</td>\n",
       "      <td>Moubarek, Master. Halim Gonios (\"William George\")</td>\n",
       "      <td>male</td>\n",
       "      <td>NaN</td>\n",
       "      <td>1</td>\n",
       "      <td>1</td>\n",
       "      <td>2661</td>\n",
       "      <td>15.2458</td>\n",
       "      <td>NaN</td>\n",
       "      <td>C</td>\n",
       "      <td>Master</td>\n",
       "      <td>1</td>\n",
       "      <td>7.934</td>\n",
       "    </tr>\n",
       "  </tbody>\n",
       "</table>\n",
       "</div>"
      ],
      "text/plain": [
       "     PassengerId  Survived  Pclass  \\\n",
       "65            66         1       3   \n",
       "159          160         0       3   \n",
       "176          177         0       3   \n",
       "709          710         1       3   \n",
       "\n",
       "                                                  Name   Sex  Age  SibSp  \\\n",
       "65                            Moubarek, Master. Gerios  male  NaN      1   \n",
       "159                         Sage, Master. Thomas Henry  male  NaN      8   \n",
       "176                      Lefebre, Master. Henry Forbes  male  NaN      3   \n",
       "709  Moubarek, Master. Halim Gonios (\"William George\")  male  NaN      1   \n",
       "\n",
       "     Parch    Ticket     Fare Cabin Embarked   Title  Title_encoded  \\\n",
       "65       1      2661  15.2458   NaN        C  Master              1   \n",
       "159      2  CA. 2343  69.5500   NaN        S  Master              1   \n",
       "176      1      4133  25.4667   NaN        S  Master              1   \n",
       "709      1      2661  15.2458   NaN        C  Master              1   \n",
       "\n",
       "     Age_Imputed  \n",
       "65         7.934  \n",
       "159       37.000  \n",
       "176        4.200  \n",
       "709        7.934  "
      ]
     },
     "execution_count": 498,
     "metadata": {},
     "output_type": "execute_result"
    }
   ],
   "source": [
    "X_transformed_knn[(X_transformed_knn['Age'].isna()) & (X_transformed_knn['Title'] == 'Master')]"
   ]
  },
  {
   "cell_type": "code",
   "execution_count": 499,
   "metadata": {
    "execution": {
     "iopub.execute_input": "2024-02-06T19:13:24.082140Z",
     "iopub.status.busy": "2024-02-06T19:13:24.081718Z",
     "iopub.status.idle": "2024-02-06T19:13:24.093673Z",
     "shell.execute_reply": "2024-02-06T19:13:24.092282Z",
     "shell.execute_reply.started": "2024-02-06T19:13:24.082109Z"
    }
   },
   "outputs": [
    {
     "name": "stdout",
     "output_type": "stream",
     "text": [
      "count    36.000000\n",
      "mean      4.574167\n",
      "std       3.619872\n",
      "min       0.420000\n",
      "25%       1.000000\n",
      "50%       3.500000\n",
      "75%       8.000000\n",
      "max      12.000000\n",
      "Name: Age, dtype: float64\n"
     ]
    }
   ],
   "source": [
    "print(train_data.loc[(train_data['Title'] == 'Master')]['Age'].describe())\n"
   ]
  },
  {
   "cell_type": "markdown",
   "metadata": {},
   "source": [
    "The \"Master\" ages in the original dataset show the actual age between 0.4-12 years. **Clearly title \"Master\" in this dataset is assigned with the childhood. One row for PassengerId == 160 was predicted as 37 years.** The difference in predicted age could be due to several factors related to the KNN imputation process:\n",
    "* **Influence of Nearest Neighbors**: The KNN imputer predicts the missing value based on the nearest neighbors in the feature space. If this particular passenger's nearest neighbors (based on features like 'Pclass', 'SibSp', 'Parch', 'Fare', and 'Title') happened to be significantly older, this would skew the predicted age upwards.\n",
    "* **Outliers or Unusual Data Patterns**: If this passenger's other features (like ticket fare, class, number of siblings/spouses, or parents/children aboard) are more similar to older passengers, the imputed age could be influenced by these factors. For example, a high fare or a higher class might be more commonly associated with older individuals, influencing the imputation.\n",
    "* **Data Entry Errors**: There's always a possibility of anomalies or errors in the dataset. If there are errors in the other features for this passenger, it could lead to an inaccurate imputation.\n",
    "\n",
    "In the case of PassengerId 160 the **notable differences** from other passengers with Title \"Master\" are:\n",
    "* 8 siblings/spouses aboard, which is significantly higher than other passengers with the title \"Master\". This is an unusually high number and might be influencing the imputed age.\n",
    "* The fare for PassengerId 160 is 69.55, which is on the higher side compared to other passengers with the title \"Master\". A higher fare might be associated with older passengers in the imputation algorithm.\n",
    "\n",
    "The combination of a high SibSp value and a relatively high fare could be the reasons why the KNN imputer predicted a much higher age for PassengerId 160 compared to other \"Master\" passengers."
   ]
  },
  {
   "cell_type": "markdown",
   "metadata": {
    "_cell_guid": "e3ef91e5-be4d-4372-a75c-6ec868c8c8c4",
    "_uuid": "52fb9446-bef4-4f02-beb7-978e24fee2dc"
   },
   "source": [
    "# Combine the features"
   ]
  },
  {
   "cell_type": "markdown",
   "metadata": {
    "_cell_guid": "65fcc056-4513-49eb-9785-3e2334b24504",
    "_uuid": "b5a6f630-d396-427a-8a01-12a472235a01"
   },
   "source": [
    "## Extract titles from names"
   ]
  },
  {
   "cell_type": "code",
   "execution_count": 500,
   "metadata": {
    "_cell_guid": "28cbdd5c-adbf-4da5-a7c0-ec9308b35d2a",
    "_uuid": "03a81de5-4f04-49a3-af16-1e9c270b4af5",
    "execution": {
     "iopub.execute_input": "2024-02-06T19:13:24.095949Z",
     "iopub.status.busy": "2024-02-06T19:13:24.095549Z",
     "iopub.status.idle": "2024-02-06T19:13:24.109147Z",
     "shell.execute_reply": "2024-02-06T19:13:24.108155Z",
     "shell.execute_reply.started": "2024-02-06T19:13:24.095915Z"
    },
    "jupyter": {
     "outputs_hidden": false
    }
   },
   "outputs": [],
   "source": [
    "train_data['Title'] = train_data['Name'].apply(lambda x: x.split(',')[1].split('.')[0].strip())\n",
    "test_data['Title'] = test_data['Name'].apply(lambda x: x.split(',')[1].split('.')[0].strip())"
   ]
  },
  {
   "cell_type": "code",
   "execution_count": 501,
   "metadata": {
    "_cell_guid": "ec2093f2-a2f5-4aa7-96f6-4de7bc4c740c",
    "_uuid": "7e7cc843-622c-4134-a3a0-f35f30fe0fcf",
    "execution": {
     "iopub.execute_input": "2024-02-06T19:13:24.111407Z",
     "iopub.status.busy": "2024-02-06T19:13:24.110789Z",
     "iopub.status.idle": "2024-02-06T19:13:24.123403Z",
     "shell.execute_reply": "2024-02-06T19:13:24.122244Z",
     "shell.execute_reply.started": "2024-02-06T19:13:24.111365Z"
    },
    "jupyter": {
     "outputs_hidden": false
    }
   },
   "outputs": [
    {
     "data": {
      "text/plain": [
       "Title\n",
       "Mr              517\n",
       "Miss            182\n",
       "Mrs             125\n",
       "Master           40\n",
       "Dr                7\n",
       "Rev               6\n",
       "Mlle              2\n",
       "Major             2\n",
       "Col               2\n",
       "the Countess      1\n",
       "Capt              1\n",
       "Ms                1\n",
       "Sir               1\n",
       "Lady              1\n",
       "Mme               1\n",
       "Don               1\n",
       "Jonkheer          1\n",
       "Name: count, dtype: int64"
      ]
     },
     "execution_count": 501,
     "metadata": {},
     "output_type": "execute_result"
    }
   ],
   "source": [
    "train_data['Title'].value_counts()"
   ]
  },
  {
   "cell_type": "code",
   "execution_count": 502,
   "metadata": {
    "_cell_guid": "a9fd7106-e5f7-4150-96c3-3b7d28f8a1bd",
    "_uuid": "87ac04aa-925d-47c6-bb6b-2438c52d3c75",
    "execution": {
     "iopub.execute_input": "2024-02-06T19:13:24.125775Z",
     "iopub.status.busy": "2024-02-06T19:13:24.125240Z",
     "iopub.status.idle": "2024-02-06T19:13:24.136775Z",
     "shell.execute_reply": "2024-02-06T19:13:24.135577Z",
     "shell.execute_reply.started": "2024-02-06T19:13:24.125741Z"
    },
    "jupyter": {
     "outputs_hidden": false
    }
   },
   "outputs": [
    {
     "data": {
      "text/plain": [
       "Title\n",
       "Mr        240\n",
       "Miss       78\n",
       "Mrs        72\n",
       "Master     21\n",
       "Col         2\n",
       "Rev         2\n",
       "Ms          1\n",
       "Dr          1\n",
       "Dona        1\n",
       "Name: count, dtype: int64"
      ]
     },
     "execution_count": 502,
     "metadata": {},
     "output_type": "execute_result"
    }
   ],
   "source": [
    "test_data['Title'].value_counts()"
   ]
  },
  {
   "cell_type": "code",
   "execution_count": 503,
   "metadata": {
    "_cell_guid": "3c5511a9-39db-4ac6-8847-79563ee2e904",
    "_uuid": "dc44206a-c53b-4e28-b2dc-584ec9affb98",
    "execution": {
     "iopub.execute_input": "2024-02-06T19:13:24.138839Z",
     "iopub.status.busy": "2024-02-06T19:13:24.137977Z",
     "iopub.status.idle": "2024-02-06T19:13:24.152659Z",
     "shell.execute_reply": "2024-02-06T19:13:24.151550Z",
     "shell.execute_reply.started": "2024-02-06T19:13:24.138794Z"
    },
    "jupyter": {
     "outputs_hidden": false
    }
   },
   "outputs": [],
   "source": [
    "# Substitute rare female titles\n",
    "train_data['Title'].replace(['Mme', 'Ms', 'Lady', 'Mlle', 'the Countess', 'Dona'], 'Miss', inplace=True)\n",
    "test_data['Title'].replace(['Mme', 'Ms', 'Lady', 'Mlle', 'the Countess', 'Dona'], 'Miss', inplace=True)\n",
    "# Substitute rare male titles\n",
    "train_data['Title'].replace(['Major', 'Col', 'Capt', 'Don', 'Sir', 'Jonkheer'], 'Mr', inplace=True)\n",
    "test_data['Title'].replace(['Major', 'Col', 'Capt', 'Don', 'Sir', 'Jonkheer'], 'Mr', inplace=True)"
   ]
  },
  {
   "cell_type": "code",
   "execution_count": 504,
   "metadata": {
    "_cell_guid": "a22ef45c-20a9-4a1b-8145-ba6a44323646",
    "_uuid": "5090f659-abde-4f4b-af72-2558addcdc78",
    "execution": {
     "iopub.execute_input": "2024-02-06T19:13:24.155234Z",
     "iopub.status.busy": "2024-02-06T19:13:24.154042Z",
     "iopub.status.idle": "2024-02-06T19:13:24.166503Z",
     "shell.execute_reply": "2024-02-06T19:13:24.165397Z",
     "shell.execute_reply.started": "2024-02-06T19:13:24.155171Z"
    },
    "jupyter": {
     "outputs_hidden": false
    }
   },
   "outputs": [
    {
     "data": {
      "text/plain": [
       "Title\n",
       "Dr        0.428571\n",
       "Master    0.575000\n",
       "Miss      0.707447\n",
       "Mr        0.160000\n",
       "Mrs       0.792000\n",
       "Rev       0.000000\n",
       "Name: Survived, dtype: float64"
      ]
     },
     "execution_count": 504,
     "metadata": {},
     "output_type": "execute_result"
    }
   ],
   "source": [
    "train_data.groupby('Title').Survived.mean()"
   ]
  },
  {
   "cell_type": "code",
   "execution_count": 505,
   "metadata": {
    "_cell_guid": "decda681-074a-45c7-8a91-cbc12ff6c4f8",
    "_uuid": "acd83430-3c8b-4608-b330-54b60e9d1c6b",
    "execution": {
     "iopub.execute_input": "2024-02-06T19:13:24.175342Z",
     "iopub.status.busy": "2024-02-06T19:13:24.174622Z",
     "iopub.status.idle": "2024-02-06T19:13:24.825613Z",
     "shell.execute_reply": "2024-02-06T19:13:24.824184Z",
     "shell.execute_reply.started": "2024-02-06T19:13:24.175292Z"
    },
    "jupyter": {
     "outputs_hidden": false
    }
   },
   "outputs": [
    {
     "data": {
      "image/png": "[encoded data removed]",
      "text/plain": [
       "<Figure size 640x480 with 1 Axes>"
      ]
     },
     "metadata": {},
     "output_type": "display_data"
    }
   ],
   "source": [
    "plt.title('Survival rate by Title')\n",
    "g = sns.barplot(x=train_data.Title, y=train_data.Survived).set_ylabel('Survival rate')"
   ]
  },
  {
   "cell_type": "markdown",
   "metadata": {
    "_cell_guid": "9e2da897-9a35-47c7-b3b9-37526544ee35",
    "_uuid": "130af359-373d-4c6c-9ed8-2546e14c9a42"
   },
   "source": [
    "## Extract family size from SibSp and Parch"
   ]
  },
  {
   "cell_type": "code",
   "execution_count": 506,
   "metadata": {
    "_cell_guid": "7387685e-00f0-4f79-ab52-551426cb9bc1",
    "_uuid": "df92f5e7-4b10-4687-9fa4-1225ed587a58",
    "execution": {
     "iopub.execute_input": "2024-02-06T19:13:24.829040Z",
     "iopub.status.busy": "2024-02-06T19:13:24.827808Z",
     "iopub.status.idle": "2024-02-06T19:13:24.848251Z",
     "shell.execute_reply": "2024-02-06T19:13:24.846949Z",
     "shell.execute_reply.started": "2024-02-06T19:13:24.828986Z"
    },
    "jupyter": {
     "outputs_hidden": false
    }
   },
   "outputs": [],
   "source": [
    "train_data['Fam_size'] = train_data['SibSp'] + train_data['Parch'] + 1\n",
    "test_data['Fam_size'] = test_data['SibSp'] + test_data['Parch'] + 1\n",
    "train_data['Fam_type'] = pd.cut(train_data.Fam_size, [0,1,4,7,11], labels=['Solo', 'Small', 'Big', 'Very big'])\n",
    "test_data['Fam_type'] = pd.cut(test_data.Fam_size, [0,1,4,7,11], labels=['Solo', 'Small', 'Big', 'Very big'])"
   ]
  },
  {
   "cell_type": "code",
   "execution_count": 507,
   "metadata": {
    "_cell_guid": "c3ff182b-a77f-43f5-9fa9-877ee51bf09e",
    "_uuid": "2070154e-d391-4b77-b75c-2a49e47ed3c4",
    "execution": {
     "iopub.execute_input": "2024-02-06T19:13:24.851047Z",
     "iopub.status.busy": "2024-02-06T19:13:24.850248Z",
     "iopub.status.idle": "2024-02-06T19:13:25.388072Z",
     "shell.execute_reply": "2024-02-06T19:13:25.386023Z",
     "shell.execute_reply.started": "2024-02-06T19:13:24.850999Z"
    },
    "jupyter": {
     "outputs_hidden": false
    }
   },
   "outputs": [
    {
     "data": {
      "image/png": "[encoded data removed]",
      "text/plain": [
       "<Figure size 640x480 with 1 Axes>"
      ]
     },
     "metadata": {},
     "output_type": "display_data"
    }
   ],
   "source": [
    "plt.title('Survival rate by family type')\n",
    "g = sns.barplot(x=train_data.Fam_type, y=train_data.Survived).set_ylabel('Survival rate')"
   ]
  },
  {
   "cell_type": "markdown",
   "metadata": {
    "_cell_guid": "76afe956-6b3c-4fe4-9859-b362b34d246a",
    "_uuid": "77a6c59c-55c0-4543-8164-3d134d704831"
   },
   "source": [
    "# Selecting features\n"
   ]
  },
  {
   "cell_type": "code",
   "execution_count": 508,
   "metadata": {
    "_cell_guid": "7b19c870-975d-4c8e-97db-4a33089c23c4",
    "_uuid": "f30c6f4b-c23c-45b9-b3b6-e4e07060c93b",
    "execution": {
     "iopub.execute_input": "2024-02-06T19:13:25.390176Z",
     "iopub.status.busy": "2024-02-06T19:13:25.389705Z",
     "iopub.status.idle": "2024-02-06T19:13:25.415274Z",
     "shell.execute_reply": "2024-02-06T19:13:25.414057Z",
     "shell.execute_reply.started": "2024-02-06T19:13:25.390135Z"
    }
   },
   "outputs": [
    {
     "data": {
      "text/html": [
       "<div>\n",
       "<style scoped>\n",
       "    .dataframe tbody tr th:only-of-type {\n",
       "        vertical-align: middle;\n",
       "    }\n",
       "\n",
       "    .dataframe tbody tr th {\n",
       "        vertical-align: top;\n",
       "    }\n",
       "\n",
       "    .dataframe thead th {\n",
       "        text-align: right;\n",
       "    }\n",
       "</style>\n",
       "<table border=\"1\" class=\"dataframe\">\n",
       "  <thead>\n",
       "    <tr style=\"text-align: right;\">\n",
       "      <th></th>\n",
       "      <th>PassengerId</th>\n",
       "      <th>Survived</th>\n",
       "      <th>Pclass</th>\n",
       "      <th>Name</th>\n",
       "      <th>Sex</th>\n",
       "      <th>Age</th>\n",
       "      <th>SibSp</th>\n",
       "      <th>Parch</th>\n",
       "      <th>Ticket</th>\n",
       "      <th>Fare</th>\n",
       "      <th>Cabin</th>\n",
       "      <th>Embarked</th>\n",
       "      <th>Title</th>\n",
       "      <th>Fam_size</th>\n",
       "      <th>Fam_type</th>\n",
       "    </tr>\n",
       "  </thead>\n",
       "  <tbody>\n",
       "    <tr>\n",
       "      <th>0</th>\n",
       "      <td>1</td>\n",
       "      <td>0</td>\n",
       "      <td>3</td>\n",
       "      <td>Braund, Mr. Owen Harris</td>\n",
       "      <td>male</td>\n",
       "      <td>22.0</td>\n",
       "      <td>1</td>\n",
       "      <td>0</td>\n",
       "      <td>A/5 21171</td>\n",
       "      <td>7.2500</td>\n",
       "      <td>NaN</td>\n",
       "      <td>S</td>\n",
       "      <td>Mr</td>\n",
       "      <td>2</td>\n",
       "      <td>Small</td>\n",
       "    </tr>\n",
       "    <tr>\n",
       "      <th>1</th>\n",
       "      <td>2</td>\n",
       "      <td>1</td>\n",
       "      <td>1</td>\n",
       "      <td>Cumings, Mrs. John Bradley (Florence Briggs Th...</td>\n",
       "      <td>female</td>\n",
       "      <td>38.0</td>\n",
       "      <td>1</td>\n",
       "      <td>0</td>\n",
       "      <td>PC 17599</td>\n",
       "      <td>71.2833</td>\n",
       "      <td>C85</td>\n",
       "      <td>C</td>\n",
       "      <td>Mrs</td>\n",
       "      <td>2</td>\n",
       "      <td>Small</td>\n",
       "    </tr>\n",
       "    <tr>\n",
       "      <th>2</th>\n",
       "      <td>3</td>\n",
       "      <td>1</td>\n",
       "      <td>3</td>\n",
       "      <td>Heikkinen, Miss. Laina</td>\n",
       "      <td>female</td>\n",
       "      <td>26.0</td>\n",
       "      <td>0</td>\n",
       "      <td>0</td>\n",
       "      <td>STON/O2. 3101282</td>\n",
       "      <td>7.9250</td>\n",
       "      <td>NaN</td>\n",
       "      <td>S</td>\n",
       "      <td>Miss</td>\n",
       "      <td>1</td>\n",
       "      <td>Solo</td>\n",
       "    </tr>\n",
       "    <tr>\n",
       "      <th>3</th>\n",
       "      <td>4</td>\n",
       "      <td>1</td>\n",
       "      <td>1</td>\n",
       "      <td>Futrelle, Mrs. Jacques Heath (Lily May Peel)</td>\n",
       "      <td>female</td>\n",
       "      <td>35.0</td>\n",
       "      <td>1</td>\n",
       "      <td>0</td>\n",
       "      <td>113803</td>\n",
       "      <td>53.1000</td>\n",
       "      <td>C123</td>\n",
       "      <td>S</td>\n",
       "      <td>Mrs</td>\n",
       "      <td>2</td>\n",
       "      <td>Small</td>\n",
       "    </tr>\n",
       "    <tr>\n",
       "      <th>4</th>\n",
       "      <td>5</td>\n",
       "      <td>0</td>\n",
       "      <td>3</td>\n",
       "      <td>Allen, Mr. William Henry</td>\n",
       "      <td>male</td>\n",
       "      <td>35.0</td>\n",
       "      <td>0</td>\n",
       "      <td>0</td>\n",
       "      <td>373450</td>\n",
       "      <td>8.0500</td>\n",
       "      <td>NaN</td>\n",
       "      <td>S</td>\n",
       "      <td>Mr</td>\n",
       "      <td>1</td>\n",
       "      <td>Solo</td>\n",
       "    </tr>\n",
       "  </tbody>\n",
       "</table>\n",
       "</div>"
      ],
      "text/plain": [
       "   PassengerId  Survived  Pclass  \\\n",
       "0            1         0       3   \n",
       "1            2         1       1   \n",
       "2            3         1       3   \n",
       "3            4         1       1   \n",
       "4            5         0       3   \n",
       "\n",
       "                                                Name     Sex   Age  SibSp  \\\n",
       "0                            Braund, Mr. Owen Harris    male  22.0      1   \n",
       "1  Cumings, Mrs. John Bradley (Florence Briggs Th...  female  38.0      1   \n",
       "2                             Heikkinen, Miss. Laina  female  26.0      0   \n",
       "3       Futrelle, Mrs. Jacques Heath (Lily May Peel)  female  35.0      1   \n",
       "4                           Allen, Mr. William Henry    male  35.0      0   \n",
       "\n",
       "   Parch            Ticket     Fare Cabin Embarked Title  Fam_size Fam_type  \n",
       "0      0         A/5 21171   7.2500   NaN        S    Mr         2    Small  \n",
       "1      0          PC 17599  71.2833   C85        C   Mrs         2    Small  \n",
       "2      0  STON/O2. 3101282   7.9250   NaN        S  Miss         1     Solo  \n",
       "3      0            113803  53.1000  C123        S   Mrs         2    Small  \n",
       "4      0            373450   8.0500   NaN        S    Mr         1     Solo  "
      ]
     },
     "execution_count": 508,
     "metadata": {},
     "output_type": "execute_result"
    }
   ],
   "source": [
    "train_data.head()"
   ]
  },
  {
   "cell_type": "code",
   "execution_count": 509,
   "metadata": {
    "_cell_guid": "78854a0e-6dd7-48a8-b5af-f25e8b67a6d4",
    "_uuid": "ba0571e8-c88f-430d-b41e-4b6b2434d7f5",
    "execution": {
     "iopub.execute_input": "2024-02-06T19:13:25.417753Z",
     "iopub.status.busy": "2024-02-06T19:13:25.417299Z",
     "iopub.status.idle": "2024-02-06T19:13:25.428069Z",
     "shell.execute_reply": "2024-02-06T19:13:25.426415Z",
     "shell.execute_reply.started": "2024-02-06T19:13:25.417710Z"
    },
    "jupyter": {
     "outputs_hidden": false
    }
   },
   "outputs": [],
   "source": [
    "features = [\"Survived\", \"Pclass\", \"Fare\", \"Embarked\", \"Title\", \"Fam_type\", \"Age\", \"Sex\"]\n",
    "X_train = train_data[features]\n",
    "X_test = test_data[[\"Pclass\", \"Fare\", \"Embarked\", \"Title\", \"Fam_type\", \"Age\", \"Sex\"]]"
   ]
  },
  {
   "cell_type": "code",
   "execution_count": 510,
   "metadata": {
    "_cell_guid": "b6cc1426-ad57-499e-8c80-526fd9da3807",
    "_uuid": "b042dcfc-cdd7-4da0-9620-fd56248cc67a",
    "execution": {
     "iopub.execute_input": "2024-02-06T19:13:25.430850Z",
     "iopub.status.busy": "2024-02-06T19:13:25.430350Z",
     "iopub.status.idle": "2024-02-06T19:13:25.454105Z",
     "shell.execute_reply": "2024-02-06T19:13:25.452289Z",
     "shell.execute_reply.started": "2024-02-06T19:13:25.430792Z"
    },
    "jupyter": {
     "outputs_hidden": false
    }
   },
   "outputs": [
    {
     "data": {
      "text/html": [
       "<div>\n",
       "<style scoped>\n",
       "    .dataframe tbody tr th:only-of-type {\n",
       "        vertical-align: middle;\n",
       "    }\n",
       "\n",
       "    .dataframe tbody tr th {\n",
       "        vertical-align: top;\n",
       "    }\n",
       "\n",
       "    .dataframe thead th {\n",
       "        text-align: right;\n",
       "    }\n",
       "</style>\n",
       "<table border=\"1\" class=\"dataframe\">\n",
       "  <thead>\n",
       "    <tr style=\"text-align: right;\">\n",
       "      <th></th>\n",
       "      <th>Survived</th>\n",
       "      <th>Pclass</th>\n",
       "      <th>Fare</th>\n",
       "      <th>Embarked</th>\n",
       "      <th>Title</th>\n",
       "      <th>Fam_type</th>\n",
       "      <th>Age</th>\n",
       "      <th>Sex</th>\n",
       "    </tr>\n",
       "  </thead>\n",
       "  <tbody>\n",
       "    <tr>\n",
       "      <th>0</th>\n",
       "      <td>0</td>\n",
       "      <td>3</td>\n",
       "      <td>7.2500</td>\n",
       "      <td>S</td>\n",
       "      <td>Mr</td>\n",
       "      <td>Small</td>\n",
       "      <td>22.0</td>\n",
       "      <td>male</td>\n",
       "    </tr>\n",
       "    <tr>\n",
       "      <th>1</th>\n",
       "      <td>1</td>\n",
       "      <td>1</td>\n",
       "      <td>71.2833</td>\n",
       "      <td>C</td>\n",
       "      <td>Mrs</td>\n",
       "      <td>Small</td>\n",
       "      <td>38.0</td>\n",
       "      <td>female</td>\n",
       "    </tr>\n",
       "    <tr>\n",
       "      <th>2</th>\n",
       "      <td>1</td>\n",
       "      <td>3</td>\n",
       "      <td>7.9250</td>\n",
       "      <td>S</td>\n",
       "      <td>Miss</td>\n",
       "      <td>Solo</td>\n",
       "      <td>26.0</td>\n",
       "      <td>female</td>\n",
       "    </tr>\n",
       "    <tr>\n",
       "      <th>3</th>\n",
       "      <td>1</td>\n",
       "      <td>1</td>\n",
       "      <td>53.1000</td>\n",
       "      <td>S</td>\n",
       "      <td>Mrs</td>\n",
       "      <td>Small</td>\n",
       "      <td>35.0</td>\n",
       "      <td>female</td>\n",
       "    </tr>\n",
       "    <tr>\n",
       "      <th>4</th>\n",
       "      <td>0</td>\n",
       "      <td>3</td>\n",
       "      <td>8.0500</td>\n",
       "      <td>S</td>\n",
       "      <td>Mr</td>\n",
       "      <td>Solo</td>\n",
       "      <td>35.0</td>\n",
       "      <td>male</td>\n",
       "    </tr>\n",
       "  </tbody>\n",
       "</table>\n",
       "</div>"
      ],
      "text/plain": [
       "   Survived  Pclass     Fare Embarked Title Fam_type   Age     Sex\n",
       "0         0       3   7.2500        S    Mr    Small  22.0    male\n",
       "1         1       1  71.2833        C   Mrs    Small  38.0  female\n",
       "2         1       3   7.9250        S  Miss     Solo  26.0  female\n",
       "3         1       1  53.1000        S   Mrs    Small  35.0  female\n",
       "4         0       3   8.0500        S    Mr     Solo  35.0    male"
      ]
     },
     "execution_count": 510,
     "metadata": {},
     "output_type": "execute_result"
    }
   ],
   "source": [
    "X_train.head()"
   ]
  },
  {
   "cell_type": "markdown",
   "metadata": {
    "_cell_guid": "25665616-1fcb-4535-92cc-d93c43bba8c2",
    "_uuid": "672ace71-fb15-4547-b962-10a19e16f784"
   },
   "source": [
    "# Data cleaning & combining"
   ]
  },
  {
   "cell_type": "code",
   "execution_count": 511,
   "metadata": {
    "_cell_guid": "f9dfd259-5469-450d-9d12-e0a050774020",
    "_uuid": "b8367bc6-803c-424c-a953-3390b0943fff",
    "execution": {
     "iopub.execute_input": "2024-02-06T19:13:25.457189Z",
     "iopub.status.busy": "2024-02-06T19:13:25.456818Z",
     "iopub.status.idle": "2024-02-06T19:13:25.474650Z",
     "shell.execute_reply": "2024-02-06T19:13:25.473141Z",
     "shell.execute_reply.started": "2024-02-06T19:13:25.457152Z"
    },
    "jupyter": {
     "outputs_hidden": false
    }
   },
   "outputs": [
    {
     "data": {
      "text/html": [
       "<div>\n",
       "<style scoped>\n",
       "    .dataframe tbody tr th:only-of-type {\n",
       "        vertical-align: middle;\n",
       "    }\n",
       "\n",
       "    .dataframe tbody tr th {\n",
       "        vertical-align: top;\n",
       "    }\n",
       "\n",
       "    .dataframe thead th {\n",
       "        text-align: right;\n",
       "    }\n",
       "</style>\n",
       "<table border=\"1\" class=\"dataframe\">\n",
       "  <thead>\n",
       "    <tr style=\"text-align: right;\">\n",
       "      <th></th>\n",
       "      <th>PassengerId</th>\n",
       "      <th>Pclass</th>\n",
       "      <th>SibSp</th>\n",
       "      <th>Parch</th>\n",
       "      <th>Age</th>\n",
       "    </tr>\n",
       "  </thead>\n",
       "  <tbody>\n",
       "    <tr>\n",
       "      <th>0</th>\n",
       "      <td>1</td>\n",
       "      <td>3</td>\n",
       "      <td>1</td>\n",
       "      <td>0</td>\n",
       "      <td>22.0</td>\n",
       "    </tr>\n",
       "    <tr>\n",
       "      <th>1</th>\n",
       "      <td>2</td>\n",
       "      <td>1</td>\n",
       "      <td>1</td>\n",
       "      <td>0</td>\n",
       "      <td>38.0</td>\n",
       "    </tr>\n",
       "    <tr>\n",
       "      <th>2</th>\n",
       "      <td>3</td>\n",
       "      <td>3</td>\n",
       "      <td>0</td>\n",
       "      <td>0</td>\n",
       "      <td>26.0</td>\n",
       "    </tr>\n",
       "    <tr>\n",
       "      <th>3</th>\n",
       "      <td>4</td>\n",
       "      <td>1</td>\n",
       "      <td>1</td>\n",
       "      <td>0</td>\n",
       "      <td>35.0</td>\n",
       "    </tr>\n",
       "    <tr>\n",
       "      <th>4</th>\n",
       "      <td>5</td>\n",
       "      <td>3</td>\n",
       "      <td>0</td>\n",
       "      <td>0</td>\n",
       "      <td>35.0</td>\n",
       "    </tr>\n",
       "  </tbody>\n",
       "</table>\n",
       "</div>"
      ],
      "text/plain": [
       "   PassengerId  Pclass  SibSp  Parch   Age\n",
       "0            1       3      1      0  22.0\n",
       "1            2       1      1      0  38.0\n",
       "2            3       3      0      0  26.0\n",
       "3            4       1      1      0  35.0\n",
       "4            5       3      0      0  35.0"
      ]
     },
     "execution_count": 511,
     "metadata": {},
     "output_type": "execute_result"
    }
   ],
   "source": [
    "y = titanic_train[\"Survived\"]\n",
    "X = titanic_train.drop('Survived', axis=1)\n",
    "data_num = X[[\"PassengerId\", \"Pclass\", \"SibSp\", \"Parch\", \"Age\"]]\n",
    "data_num.head()"
   ]
  },
  {
   "cell_type": "code",
   "execution_count": 512,
   "metadata": {
    "_cell_guid": "8228cdbe-e196-4c9b-b60c-30e54b186961",
    "_uuid": "28a3ab18-b043-49ea-b3cc-d3442dc5b9b0",
    "execution": {
     "iopub.execute_input": "2024-02-06T19:13:25.476829Z",
     "iopub.status.busy": "2024-02-06T19:13:25.476348Z",
     "iopub.status.idle": "2024-02-06T19:13:25.489175Z",
     "shell.execute_reply": "2024-02-06T19:13:25.487741Z",
     "shell.execute_reply.started": "2024-02-06T19:13:25.476777Z"
    },
    "jupyter": {
     "outputs_hidden": false
    }
   },
   "outputs": [
    {
     "data": {
      "text/plain": [
       "PassengerId      int64\n",
       "Pclass           int64\n",
       "SibSp            int64\n",
       "Parch            int64\n",
       "Age            float64\n",
       "dtype: object"
      ]
     },
     "execution_count": 512,
     "metadata": {},
     "output_type": "execute_result"
    }
   ],
   "source": [
    "data_num.dtypes"
   ]
  },
  {
   "cell_type": "code",
   "execution_count": 513,
   "metadata": {
    "_cell_guid": "b5aa2e1a-bded-49fc-bfc5-eb815508a6dc",
    "_uuid": "a51bcb6d-4587-4f78-a0fa-e25e92232415",
    "execution": {
     "iopub.execute_input": "2024-02-06T19:13:25.492547Z",
     "iopub.status.busy": "2024-02-06T19:13:25.491622Z",
     "iopub.status.idle": "2024-02-06T19:13:25.517449Z",
     "shell.execute_reply": "2024-02-06T19:13:25.516291Z",
     "shell.execute_reply.started": "2024-02-06T19:13:25.492503Z"
    },
    "jupyter": {
     "outputs_hidden": false
    }
   },
   "outputs": [
    {
     "data": {
      "text/html": [
       "<div>\n",
       "<style scoped>\n",
       "    .dataframe tbody tr th:only-of-type {\n",
       "        vertical-align: middle;\n",
       "    }\n",
       "\n",
       "    .dataframe tbody tr th {\n",
       "        vertical-align: top;\n",
       "    }\n",
       "\n",
       "    .dataframe thead th {\n",
       "        text-align: right;\n",
       "    }\n",
       "</style>\n",
       "<table border=\"1\" class=\"dataframe\">\n",
       "  <thead>\n",
       "    <tr style=\"text-align: right;\">\n",
       "      <th></th>\n",
       "      <th>Name</th>\n",
       "      <th>Sex</th>\n",
       "      <th>Ticket</th>\n",
       "      <th>Embarked</th>\n",
       "      <th>Fare</th>\n",
       "    </tr>\n",
       "  </thead>\n",
       "  <tbody>\n",
       "    <tr>\n",
       "      <th>0</th>\n",
       "      <td>Braund, Mr. Owen Harris</td>\n",
       "      <td>male</td>\n",
       "      <td>A/5 21171</td>\n",
       "      <td>S</td>\n",
       "      <td>7.2500</td>\n",
       "    </tr>\n",
       "    <tr>\n",
       "      <th>1</th>\n",
       "      <td>Cumings, Mrs. John Bradley (Florence Briggs Th...</td>\n",
       "      <td>female</td>\n",
       "      <td>PC 17599</td>\n",
       "      <td>C</td>\n",
       "      <td>71.2833</td>\n",
       "    </tr>\n",
       "    <tr>\n",
       "      <th>2</th>\n",
       "      <td>Heikkinen, Miss. Laina</td>\n",
       "      <td>female</td>\n",
       "      <td>STON/O2. 3101282</td>\n",
       "      <td>S</td>\n",
       "      <td>7.9250</td>\n",
       "    </tr>\n",
       "    <tr>\n",
       "      <th>3</th>\n",
       "      <td>Futrelle, Mrs. Jacques Heath (Lily May Peel)</td>\n",
       "      <td>female</td>\n",
       "      <td>113803</td>\n",
       "      <td>S</td>\n",
       "      <td>53.1000</td>\n",
       "    </tr>\n",
       "    <tr>\n",
       "      <th>4</th>\n",
       "      <td>Allen, Mr. William Henry</td>\n",
       "      <td>male</td>\n",
       "      <td>373450</td>\n",
       "      <td>S</td>\n",
       "      <td>8.0500</td>\n",
       "    </tr>\n",
       "  </tbody>\n",
       "</table>\n",
       "</div>"
      ],
      "text/plain": [
       "                                                Name     Sex  \\\n",
       "0                            Braund, Mr. Owen Harris    male   \n",
       "1  Cumings, Mrs. John Bradley (Florence Briggs Th...  female   \n",
       "2                             Heikkinen, Miss. Laina  female   \n",
       "3       Futrelle, Mrs. Jacques Heath (Lily May Peel)  female   \n",
       "4                           Allen, Mr. William Henry    male   \n",
       "\n",
       "             Ticket Embarked     Fare  \n",
       "0         A/5 21171        S   7.2500  \n",
       "1          PC 17599        C  71.2833  \n",
       "2  STON/O2. 3101282        S   7.9250  \n",
       "3            113803        S  53.1000  \n",
       "4            373450        S   8.0500  "
      ]
     },
     "execution_count": 513,
     "metadata": {},
     "output_type": "execute_result"
    }
   ],
   "source": [
    "data_cat = X[[\"Name\", \"Sex\", \"Ticket\", \"Embarked\", \"Fare\"]]\n",
    "\n",
    "data_cat.head()"
   ]
  },
  {
   "cell_type": "markdown",
   "metadata": {
    "_cell_guid": "5370bd9b-86a1-4bb0-9b5e-1b63cf905922",
    "_uuid": "800f14dc-4874-4904-9f76-6711cd962982"
   },
   "source": [
    "## Numerical pipeline"
   ]
  },
  {
   "cell_type": "code",
   "execution_count": 514,
   "metadata": {
    "_cell_guid": "0296ebba-14a8-4cb9-9163-3badd93348e4",
    "_uuid": "4ceea8f4-2448-42d3-89ce-4e8f215d7697",
    "execution": {
     "iopub.execute_input": "2024-02-06T19:13:25.520143Z",
     "iopub.status.busy": "2024-02-06T19:13:25.519103Z",
     "iopub.status.idle": "2024-02-06T19:13:25.535451Z",
     "shell.execute_reply": "2024-02-06T19:13:25.534488Z",
     "shell.execute_reply.started": "2024-02-06T19:13:25.520092Z"
    },
    "jupyter": {
     "outputs_hidden": false
    }
   },
   "outputs": [],
   "source": [
    "from sklearn.base import BaseEstimator, TransformerMixin\n",
    "from sklearn.pipeline import Pipeline\n",
    "from sklearn.preprocessing import StandardScaler, Normalizer\n",
    "from sklearn.preprocessing import OneHotEncoder\n",
    "from sklearn.impute import SimpleImputer\n",
    "from sklearn.compose import ColumnTransformer\n",
    "from sklearn.metrics import mean_squared_error\n",
    "from sklearn.model_selection import cross_val_score\n",
    "\n",
    "\n",
    "class CombinedAttributesAdderNumerical(BaseEstimator, TransformerMixin):\n",
    "    def __init__(self, newAttributes=True):\n",
    "        self.newAttributes = newAttributes\n",
    "        \n",
    "    def fit(self, X, y=None):\n",
    "        return self\n",
    "    \n",
    "    def transform(self, X, y=None):\n",
    "        if self.newAttributes:\n",
    "            X[\"fam_size\"] = X['SibSp'] + X['Parch'] + 1\n",
    "            X = X.drop(\"SibSp\", axis=1)\n",
    "            X = X.drop(\"Parch\", axis=1)        \n",
    "        return X\n",
    "    \n",
    "class AgeImputer(BaseEstimator, TransformerMixin):\n",
    "    def __init__(self):\n",
    "        pass\n",
    "    \n",
    "    def fit(self, X, y=None):\n",
    "        self.age_means = X_transformed.groupby(['Pclass', 'SibSp', 'Parch', 'Title'])['Age'].transform('mean')\n",
    "        return self\n",
    "\n",
    "    def transform(self, X):\n",
    "        X_transformed = X.copy()\n",
    "        X_transformed['Age'] = X_transformed['Age'].fillna(self.age_means)\n",
    "        return X_transformed"
   ]
  },
  {
   "cell_type": "code",
   "execution_count": 515,
   "metadata": {
    "_cell_guid": "06751c4d-2888-473a-984c-7056f5b0681a",
    "_uuid": "9cb7d889-e785-429a-bd9f-8df76a878a3d",
    "execution": {
     "iopub.execute_input": "2024-02-06T19:13:25.538038Z",
     "iopub.status.busy": "2024-02-06T19:13:25.536922Z",
     "iopub.status.idle": "2024-02-06T19:13:25.550725Z",
     "shell.execute_reply": "2024-02-06T19:13:25.549223Z",
     "shell.execute_reply.started": "2024-02-06T19:13:25.537992Z"
    },
    "jupyter": {
     "outputs_hidden": false
    }
   },
   "outputs": [],
   "source": [
    "num_pipeline = Pipeline([\n",
    "    ('age_imputer', AgeImputer()),\n",
    "    ('combine_attr', CombinedAttributesAdderNumerical()),\n",
    "    ('imputer', SimpleImputer(strategy=\"median\")),\n",
    "    ('normalizer', Normalizer()),\n",
    "    ('std_scaler', StandardScaler()),\n",
    "])"
   ]
  },
  {
   "cell_type": "markdown",
   "metadata": {
    "_cell_guid": "32c9c565-61fe-4c43-b0a6-82f92d416f2a",
    "_uuid": "e40ffde6-0816-4a45-9d1a-a0727f7a4d3f"
   },
   "source": [
    "## Categorical pipeline"
   ]
  },
  {
   "cell_type": "code",
   "execution_count": 516,
   "metadata": {
    "_cell_guid": "9f6925c8-280a-4ebb-9f94-e348aa2786e2",
    "_uuid": "27a480ce-a9a9-4b7d-a413-b277b6301ee7",
    "execution": {
     "iopub.execute_input": "2024-02-06T19:13:25.554142Z",
     "iopub.status.busy": "2024-02-06T19:13:25.552734Z",
     "iopub.status.idle": "2024-02-06T19:13:25.569073Z",
     "shell.execute_reply": "2024-02-06T19:13:25.568147Z",
     "shell.execute_reply.started": "2024-02-06T19:13:25.554088Z"
    },
    "jupyter": {
     "outputs_hidden": false
    }
   },
   "outputs": [],
   "source": [
    "class CategoryExtractor(BaseEstimator, TransformerMixin):\n",
    "    def __init__(self, newAttributes=True):\n",
    "        self.newAttributes = newAttributes\n",
    "        \n",
    "    def fit(self, X, y=None):\n",
    "        return self\n",
    "    \n",
    "    def transform(self, X, y=None):\n",
    "        X_transformed = X.copy()\n",
    "        X_transformed['Title'] = X_transformed['Name'].apply(lambda x: x.split(',')[1].split('.')[0].strip())\n",
    "        X_transformed['Title'].replace(['Mme', 'Ms', 'Lady', 'Mlle', 'the Countess', 'Dona'], 'Miss', inplace=True)\n",
    "        X_transformed['Title'].replace(['Major', 'Col', 'Capt', 'Don', 'Sir', 'Jonkheer'], 'Mr', inplace=True)\n",
    "        X_transformed = X_transformed.drop(\"Name\", axis=1)\n",
    "        return X_transformed\n",
    "    \n",
    "class AttributesBinner(BaseEstimator, TransformerMixin):\n",
    "    def __init__(self):\n",
    "        pass\n",
    "        \n",
    "    def fit(self, X, y=None):\n",
    "        return self\n",
    "\n",
    "    def transform(self, X):\n",
    "        X_transformed = X.copy()\n",
    "        fare_bins = [0, 25, 50, 100, 500]\n",
    "        X_transformed['FareCategory'] = pd.cut(X_transformed['Fare'], bins=fare_bins)\n",
    "        X_transformed = X_transformed.drop(\"Fare\", axis=1)\n",
    "        return X_transformed"
   ]
  },
  {
   "cell_type": "code",
   "execution_count": 517,
   "metadata": {
    "_cell_guid": "02092b07-efc5-4ed2-9548-21b052ebc0d4",
    "_uuid": "1d061260-64bf-4322-9308-1389b77b0052",
    "execution": {
     "iopub.execute_input": "2024-02-06T19:13:25.571867Z",
     "iopub.status.busy": "2024-02-06T19:13:25.570592Z",
     "iopub.status.idle": "2024-02-06T19:13:25.586137Z",
     "shell.execute_reply": "2024-02-06T19:13:25.585116Z",
     "shell.execute_reply.started": "2024-02-06T19:13:25.571820Z"
    },
    "jupyter": {
     "outputs_hidden": false
    }
   },
   "outputs": [],
   "source": [
    "cat_pipeline = Pipeline([\n",
    "    ('cat_extractor', CategoryExtractor()),\n",
    "    ('binner', AttributesBinner()),\n",
    "    ('imputer', SimpleImputer(strategy=\"most_frequent\")),\n",
    "    ('onehot_encoder', OneHotEncoder())\n",
    "])\n",
    "\n",
    "#df_cat = cat_pipeline.fit_transform(data_cat)\n",
    "#print(df_cat)"
   ]
  },
  {
   "cell_type": "markdown",
   "metadata": {},
   "source": [
    "# Pipelines execution"
   ]
  },
  {
   "cell_type": "code",
   "execution_count": 518,
   "metadata": {
    "_cell_guid": "0c6cb696-3de2-4a1d-8ebf-3d164f8dacff",
    "_uuid": "0393d1df-685c-4125-b8e6-d9eedd3c16d6",
    "execution": {
     "iopub.execute_input": "2024-02-06T19:13:25.588548Z",
     "iopub.status.busy": "2024-02-06T19:13:25.587841Z",
     "iopub.status.idle": "2024-02-06T19:13:25.639325Z",
     "shell.execute_reply": "2024-02-06T19:13:25.638234Z",
     "shell.execute_reply.started": "2024-02-06T19:13:25.588505Z"
    },
    "jupyter": {
     "outputs_hidden": false
    }
   },
   "outputs": [
    {
     "name": "stdout",
     "output_type": "stream",
     "text": [
      "[[ 0.          1.          0.         ...  0.22663087  0.21613034\n",
      "  -0.09523736]\n",
      " [ 1.          0.          1.         ... -0.77898023  0.30006583\n",
      "  -0.31040471]\n",
      " [ 1.          0.          0.         ...  0.04066041  0.25905635\n",
      "  -0.39353045]\n",
      " ...\n",
      " [ 1.          0.          0.         ... -0.08211733  0.20735814\n",
      "   0.16743625]\n",
      " [ 0.          1.          1.         ... -0.66630498  0.30190624\n",
      "  -0.3922304 ]\n",
      " [ 0.          1.          0.         ... -0.15661165  0.27716714\n",
      "  -0.43452257]]\n"
     ]
    }
   ],
   "source": [
    "data_num_cols = X[[\"Pclass\", \"SibSp\", \"Parch\", \"Age\"]].columns\n",
    "data_cat_cols = X[[\"Name\", \"Sex\", \"Embarked\", \"Fare\"]].columns\n",
    "\n",
    "\n",
    "full_pipeline = ColumnTransformer([\n",
    "    ('cat_pipeline', cat_pipeline, data_cat_cols),\n",
    "    ('num_pipeline', num_pipeline, data_num_cols)\n",
    "])\n",
    "\n",
    "X_prepared = full_pipeline.fit_transform(X)\n",
    "print(X_prepared)"
   ]
  },
  {
   "cell_type": "markdown",
   "metadata": {
    "_cell_guid": "51c6ad89-5af4-4890-9d55-9bc909d78755",
    "_uuid": "72573adb-cfa8-4a37-a382-bc671620f697"
   },
   "source": [
    "# Models"
   ]
  },
  {
   "cell_type": "markdown",
   "metadata": {
    "_cell_guid": "b8b9f32e-7804-4e88-bb11-0ca7d619373b",
    "_uuid": "1b9a5e09-f45a-4408-bdd8-2459888760f7"
   },
   "source": [
    "## Linear regression"
   ]
  },
  {
   "cell_type": "code",
   "execution_count": 519,
   "metadata": {
    "_cell_guid": "ff02e5e0-28b5-465c-a1a5-26bdfbb8b6e0",
    "_uuid": "6bac7b9d-cadf-4ff8-a1b2-47c10be47915",
    "execution": {
     "iopub.execute_input": "2024-02-06T19:13:25.641803Z",
     "iopub.status.busy": "2024-02-06T19:13:25.641082Z",
     "iopub.status.idle": "2024-02-06T19:13:25.741989Z",
     "shell.execute_reply": "2024-02-06T19:13:25.740942Z",
     "shell.execute_reply.started": "2024-02-06T19:13:25.641760Z"
    },
    "jupyter": {
     "outputs_hidden": false
    }
   },
   "outputs": [
    {
     "name": "stdout",
     "output_type": "stream",
     "text": [
      "Scores: [3.97603469e-01 3.92175644e-01 4.05699503e-01 3.60413631e-01\n",
      " 3.96033408e-01 3.72634619e-01 4.07772048e-01 4.04502970e-01\n",
      " 4.86288515e+11 3.56693883e-01]\n",
      "Mean: 48628851513.74244\n",
      "Standard deviation: 145886554540.0628\n"
     ]
    }
   ],
   "source": [
    "from sklearn.linear_model import LinearRegression\n",
    "\n",
    "def display_scores(scores):\n",
    "    print(\"Scores:\", scores)\n",
    "    print(\"Mean:\", scores.mean())\n",
    "    print(\"Standard deviation:\", scores.std())\n",
    "\n",
    "\n",
    "lin_reg = LinearRegression()\n",
    "\n",
    "scores = cross_val_score(lin_reg, X_prepared, y, scoring=\"neg_mean_squared_error\", cv=10)\n",
    "lin_rmse_scores = np.sqrt(-scores)\n",
    "\n",
    "display_scores(lin_rmse_scores)"
   ]
  },
  {
   "cell_type": "markdown",
   "metadata": {
    "_cell_guid": "7d3833db-0dc8-4081-ba37-18bb33a2b998",
    "_uuid": "1510dd9a-f8fc-43a5-99de-4f96db2eeeb4"
   },
   "source": [
    "## Logistic regression"
   ]
  },
  {
   "cell_type": "code",
   "execution_count": 520,
   "metadata": {
    "_cell_guid": "38adbf0d-8c6e-4430-b700-ce3fc1338159",
    "_uuid": "3c4f01ef-b247-4104-98e2-5bed709dce35",
    "execution": {
     "iopub.execute_input": "2024-02-06T19:13:25.751112Z",
     "iopub.status.busy": "2024-02-06T19:13:25.747822Z",
     "iopub.status.idle": "2024-02-06T19:13:36.461043Z",
     "shell.execute_reply": "2024-02-06T19:13:36.459921Z",
     "shell.execute_reply.started": "2024-02-06T19:13:25.751061Z"
    },
    "jupyter": {
     "outputs_hidden": false
    }
   },
   "outputs": [
    {
     "name": "stdout",
     "output_type": "stream",
     "text": [
      "Scores: [0.49441323 0.47404546 0.50835712 0.33520076 0.47404546 0.44971901\n",
      " 0.46204236 0.50835712 0.44971901 0.42399915]\n",
      "Mean: 0.45798987125749113\n",
      "Standard deviation: 0.048271852131376476\n"
     ]
    }
   ],
   "source": [
    "from sklearn.linear_model import LogisticRegression\n",
    "from sklearn.pipeline import make_pipeline\n",
    "from sklearn.preprocessing import PolynomialFeatures\n",
    "\n",
    "degree = 3\n",
    "\n",
    "log_reg = make_pipeline(\n",
    "    PolynomialFeatures(degree), \n",
    "    LogisticRegression(max_iter=2000))\n",
    "\n",
    "#log_reg = LogisticRegression(max_iter=2000)\n",
    "\n",
    "scores = cross_val_score(log_reg, X_prepared, y, scoring=\"neg_mean_squared_error\", cv=10)\n",
    "log_rmse_scores = np.sqrt(-scores)\n",
    "\n",
    "display_scores(log_rmse_scores)"
   ]
  },
  {
   "cell_type": "markdown",
   "metadata": {
    "_cell_guid": "7a72efce-6d77-48d2-8a64-89c8a00f748b",
    "_uuid": "56538c9f-18e9-4355-a750-e329001d04b2"
   },
   "source": [
    "## Decision tree"
   ]
  },
  {
   "cell_type": "code",
   "execution_count": 521,
   "metadata": {
    "_cell_guid": "ad9280a7-a85d-4e2c-b112-26781ea95461",
    "_uuid": "4a1ac937-df45-45dc-8ebd-15ee7108b154",
    "execution": {
     "iopub.execute_input": "2024-02-06T19:13:36.472369Z",
     "iopub.status.busy": "2024-02-06T19:13:36.462578Z",
     "iopub.status.idle": "2024-02-06T19:13:36.574393Z",
     "shell.execute_reply": "2024-02-06T19:13:36.572545Z",
     "shell.execute_reply.started": "2024-02-06T19:13:36.472292Z"
    },
    "jupyter": {
     "outputs_hidden": false
    }
   },
   "outputs": [
    {
     "name": "stdout",
     "output_type": "stream",
     "text": [
      "Scores: [0.55892408 0.40349742 0.53442868 0.43688971 0.47163151 0.41850202\n",
      " 0.46859506 0.47428808 0.44661829 0.49383114]\n",
      "Mean: 0.4707205982278195\n",
      "Standard deviation: 0.04621896858886278\n"
     ]
    }
   ],
   "source": [
    "from sklearn.tree import DecisionTreeRegressor\n",
    "\n",
    "tree_reg = DecisionTreeRegressor()\n",
    "#tree_reg.fit(X_prepared, y)\n",
    "\n",
    "scores = cross_val_score(tree_reg, X_prepared, y, scoring=\"neg_mean_squared_error\", cv=10)\n",
    "tree_rmse_scores = np.sqrt(-scores)\n",
    "\n",
    "display_scores(tree_rmse_scores)"
   ]
  },
  {
   "cell_type": "markdown",
   "metadata": {
    "_cell_guid": "aa0328bd-bfe8-48f9-93fd-60313f55f575",
    "_uuid": "a4fdb3a5-c3d7-4cfe-997f-0c4f62f83f0f"
   },
   "source": [
    "## Random forest"
   ]
  },
  {
   "cell_type": "code",
   "execution_count": 522,
   "metadata": {
    "_cell_guid": "3708b6b0-b279-4cea-b4d3-feb388ec0c5a",
    "_uuid": "4a6a9cb9-855b-449b-afa7-77598de044ff",
    "execution": {
     "iopub.execute_input": "2024-02-06T19:13:36.577459Z",
     "iopub.status.busy": "2024-02-06T19:13:36.576507Z",
     "iopub.status.idle": "2024-02-06T19:13:42.817751Z",
     "shell.execute_reply": "2024-02-06T19:13:42.816592Z",
     "shell.execute_reply.started": "2024-02-06T19:13:36.577407Z"
    },
    "jupyter": {
     "outputs_hidden": false
    }
   },
   "outputs": [
    {
     "name": "stdout",
     "output_type": "stream",
     "text": [
      "0.4475669078812879 {'max_features': 2, 'n_estimators': 3}\n",
      "0.420647832244077 {'max_features': 2, 'n_estimators': 10}\n",
      "0.41519756664023943 {'max_features': 2, 'n_estimators': 30}\n",
      "0.4094039684103921 {'max_features': 2, 'n_estimators': 60}\n",
      "0.454504614728192 {'max_features': 4, 'n_estimators': 3}\n",
      "0.4131251262201716 {'max_features': 4, 'n_estimators': 10}\n",
      "0.4104923211446059 {'max_features': 4, 'n_estimators': 30}\n",
      "0.4100840871947207 {'max_features': 4, 'n_estimators': 60}\n",
      "0.4472296007541211 {'max_features': 6, 'n_estimators': 3}\n",
      "0.42392268717198545 {'max_features': 6, 'n_estimators': 10}\n",
      "0.41082223989577105 {'max_features': 6, 'n_estimators': 30}\n",
      "0.4096770096560088 {'max_features': 6, 'n_estimators': 60}\n",
      "0.44409049235307974 {'max_features': 8, 'n_estimators': 3}\n",
      "0.4173236133882187 {'max_features': 8, 'n_estimators': 10}\n",
      "0.41098730768324754 {'max_features': 8, 'n_estimators': 30}\n",
      "0.40843585637271734 {'max_features': 8, 'n_estimators': 60}\n",
      "0.4540675357092118 {'bootstrap': False, 'max_features': 2, 'n_estimators': 3}\n",
      "0.450323091922277 {'bootstrap': False, 'max_features': 2, 'n_estimators': 10}\n",
      "0.4642403626063249 {'bootstrap': False, 'max_features': 3, 'n_estimators': 3}\n",
      "0.4453006570870357 {'bootstrap': False, 'max_features': 3, 'n_estimators': 10}\n",
      "0.46086774814559495 {'bootstrap': False, 'max_features': 4, 'n_estimators': 3}\n",
      "0.4416505694958983 {'bootstrap': False, 'max_features': 4, 'n_estimators': 10}\n"
     ]
    }
   ],
   "source": [
    "from sklearn.ensemble import RandomForestRegressor\n",
    "from sklearn.model_selection import GridSearchCV\n",
    "\n",
    "param_grid = [\n",
    "{'n_estimators': [3, 10, 30, 60], 'max_features': [2, 4, 6, 8]},\n",
    "{'bootstrap': [False], 'n_estimators': [3, 10], 'max_features': [2, 3,\n",
    "4]},\n",
    "]\n",
    "\n",
    "forest_reg = RandomForestRegressor()\n",
    "\n",
    "grid_search = GridSearchCV(forest_reg, param_grid, cv=5, scoring='neg_mean_squared_error', return_train_score=True)\n",
    "grid_search.fit(X_prepared, y)\n",
    "grid_search.best_params_\n",
    "\n",
    "cvres = grid_search.cv_results_\n",
    "for mean_score, params in zip(cvres[\"mean_test_score\"], cvres[\"params\"]):\n",
    "    print(np.sqrt(-mean_score), params)"
   ]
  },
  {
   "cell_type": "markdown",
   "metadata": {
    "_cell_guid": "32505310-bbe5-42dd-93d9-921a61b86485",
    "_uuid": "da65c119-97b6-4e2e-9ff0-17017afff1de"
   },
   "source": [
    "# Final model"
   ]
  },
  {
   "cell_type": "code",
   "execution_count": 523,
   "metadata": {
    "_cell_guid": "6f72b5f8-f4a4-4cc8-a910-ced27ba8ec6a",
    "_uuid": "72bff21c-5bcd-40f6-b470-e6f0872c54cf",
    "execution": {
     "iopub.execute_input": "2024-02-06T19:13:42.820578Z",
     "iopub.status.busy": "2024-02-06T19:13:42.819384Z",
     "iopub.status.idle": "2024-02-06T19:13:43.985716Z",
     "shell.execute_reply": "2024-02-06T19:13:43.984121Z",
     "shell.execute_reply.started": "2024-02-06T19:13:42.820528Z"
    },
    "jupyter": {
     "outputs_hidden": false
    }
   },
   "outputs": [],
   "source": [
    "X_test = titanic_test.copy()\n",
    "X_test_prepared = full_pipeline.transform(X_test)\n",
    "\n",
    "# Uncomment to use RandomForestRegressor\n",
    "#final_model = grid_search.best_estimator_\n",
    "#predictions = final_model.predict(X_test_prepared)\n",
    "\n",
    "\n",
    "log_reg.fit(X_prepared, y)\n",
    "predictions = log_reg.predict(X_test_prepared)\n",
    "\n"
   ]
  },
  {
   "cell_type": "markdown",
   "metadata": {
    "_cell_guid": "01b340fd-4bde-4f78-b8f4-e235bcf1b6af",
    "_uuid": "b45d2285-8722-4b29-b574-002b442585f3"
   },
   "source": [
    "# Save results"
   ]
  },
  {
   "cell_type": "code",
   "execution_count": 524,
   "metadata": {
    "execution": {
     "iopub.execute_input": "2024-02-06T19:13:43.988791Z",
     "iopub.status.busy": "2024-02-06T19:13:43.987962Z",
     "iopub.status.idle": "2024-02-06T19:13:44.000283Z",
     "shell.execute_reply": "2024-02-06T19:13:43.999160Z",
     "shell.execute_reply.started": "2024-02-06T19:13:43.988746Z"
    }
   },
   "outputs": [
    {
     "name": "stdout",
     "output_type": "stream",
     "text": [
      "Your submission was successfully saved!\n"
     ]
    }
   ],
   "source": [
    "output = pd.DataFrame({'PassengerId': titanic_test.PassengerId, 'Survived': predictions.astype(int)})\n",
    "output.to_csv('submission.csv', index=False)\n",
    "print(\"Your submission was successfully saved!\")"
   ]
  }
 ],
 "metadata": {
  "kaggle": {
   "accelerator": "none",
   "dataSources": [
    {
     "databundleVersionId": 26502,
     "sourceId": 3136,
     "sourceType": "competition"
    }
   ],
   "dockerImageVersionId": 30587,
   "isGpuEnabled": false,
   "isInternetEnabled": false,
   "language": "python",
   "sourceType": "notebook"
  },
  "kernelspec": {
   "display_name": "Python 3",
   "language": "python",
   "name": "python3"
  },
  "language_info": {
   "codemirror_mode": {
    "name": "ipython",
    "version": 3
   },
   "file_extension": ".py",
   "mimetype": "text/x-python",
   "name": "python",
   "nbconvert_exporter": "python",
   "pygments_lexer": "ipython3",
   "version": "3.11.4"
  }
 },
 "nbformat": 4,
 "nbformat_minor": 4
}
